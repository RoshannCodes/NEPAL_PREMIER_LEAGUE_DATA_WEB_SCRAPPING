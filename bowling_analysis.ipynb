{
 "cells": [
  {
   "cell_type": "code",
   "execution_count": 108,
   "metadata": {},
   "outputs": [],
   "source": [
    "import pandas as pd\n",
    "from PIL import Image as PILImage\n",
    "from IPython.display import display, HTML"
   ]
  },
  {
   "cell_type": "code",
   "execution_count": 109,
   "metadata": {},
   "outputs": [
    {
     "data": {
      "text/html": [
       "<div>\n",
       "<style scoped>\n",
       "    .dataframe tbody tr th:only-of-type {\n",
       "        vertical-align: middle;\n",
       "    }\n",
       "\n",
       "    .dataframe tbody tr th {\n",
       "        vertical-align: top;\n",
       "    }\n",
       "\n",
       "    .dataframe thead th {\n",
       "        text-align: right;\n",
       "    }\n",
       "</style>\n",
       "<table border=\"1\" class=\"dataframe\">\n",
       "  <thead>\n",
       "    <tr style=\"text-align: right;\">\n",
       "      <th></th>\n",
       "      <th>Team Name</th>\n",
       "      <th>Player</th>\n",
       "      <th>Span</th>\n",
       "      <th>Mat</th>\n",
       "      <th>Inns</th>\n",
       "      <th>Overs</th>\n",
       "      <th>Mdns</th>\n",
       "      <th>Runs</th>\n",
       "      <th>Wkts</th>\n",
       "      <th>BBI</th>\n",
       "      <th>Ave</th>\n",
       "      <th>Econ</th>\n",
       "      <th>SR</th>\n",
       "      <th>5</th>\n",
       "      <th>10</th>\n",
       "      <th>Ct</th>\n",
       "      <th>St</th>\n",
       "    </tr>\n",
       "  </thead>\n",
       "  <tbody>\n",
       "    <tr>\n",
       "      <th>0</th>\n",
       "      <td>Janakpur Bolts</td>\n",
       "      <td>LN Rajbanshi</td>\n",
       "      <td>2024-2024</td>\n",
       "      <td>10</td>\n",
       "      <td>10</td>\n",
       "      <td>40.0</td>\n",
       "      <td>5</td>\n",
       "      <td>213</td>\n",
       "      <td>17</td>\n",
       "      <td>3/8</td>\n",
       "      <td>12.52</td>\n",
       "      <td>5.32</td>\n",
       "      <td>14.1</td>\n",
       "      <td>-</td>\n",
       "      <td>-</td>\n",
       "      <td>3</td>\n",
       "      <td>-</td>\n",
       "    </tr>\n",
       "    <tr>\n",
       "      <th>1</th>\n",
       "      <td>Janakpur Bolts</td>\n",
       "      <td>Mohammad Mohsin</td>\n",
       "      <td>2024-2024</td>\n",
       "      <td>9</td>\n",
       "      <td>9</td>\n",
       "      <td>34.3</td>\n",
       "      <td>2</td>\n",
       "      <td>200</td>\n",
       "      <td>12</td>\n",
       "      <td>3/40</td>\n",
       "      <td>16.66</td>\n",
       "      <td>5.79</td>\n",
       "      <td>17.2</td>\n",
       "      <td>-</td>\n",
       "      <td>-</td>\n",
       "      <td>3</td>\n",
       "      <td>-</td>\n",
       "    </tr>\n",
       "    <tr>\n",
       "      <th>2</th>\n",
       "      <td>Janakpur Bolts</td>\n",
       "      <td>H Thaker</td>\n",
       "      <td>2024-2024</td>\n",
       "      <td>10</td>\n",
       "      <td>9</td>\n",
       "      <td>31.0</td>\n",
       "      <td>2</td>\n",
       "      <td>197</td>\n",
       "      <td>11</td>\n",
       "      <td>5/23</td>\n",
       "      <td>17.90</td>\n",
       "      <td>6.35</td>\n",
       "      <td>16.9</td>\n",
       "      <td>1</td>\n",
       "      <td>-</td>\n",
       "      <td>2</td>\n",
       "      <td>-</td>\n",
       "    </tr>\n",
       "    <tr>\n",
       "      <th>3</th>\n",
       "      <td>Janakpur Bolts</td>\n",
       "      <td>S Malla</td>\n",
       "      <td>2024-2024</td>\n",
       "      <td>8</td>\n",
       "      <td>7</td>\n",
       "      <td>19.3</td>\n",
       "      <td>-</td>\n",
       "      <td>132</td>\n",
       "      <td>7</td>\n",
       "      <td>3/11</td>\n",
       "      <td>18.85</td>\n",
       "      <td>6.76</td>\n",
       "      <td>16.7</td>\n",
       "      <td>-</td>\n",
       "      <td>-</td>\n",
       "      <td>1</td>\n",
       "      <td>-</td>\n",
       "    </tr>\n",
       "    <tr>\n",
       "      <th>4</th>\n",
       "      <td>Janakpur Bolts</td>\n",
       "      <td>K Mahato</td>\n",
       "      <td>2024-2024</td>\n",
       "      <td>10</td>\n",
       "      <td>10</td>\n",
       "      <td>33.0</td>\n",
       "      <td>1</td>\n",
       "      <td>265</td>\n",
       "      <td>14</td>\n",
       "      <td>4/35</td>\n",
       "      <td>18.92</td>\n",
       "      <td>8.03</td>\n",
       "      <td>14.1</td>\n",
       "      <td>-</td>\n",
       "      <td>-</td>\n",
       "      <td>1</td>\n",
       "      <td>-</td>\n",
       "    </tr>\n",
       "  </tbody>\n",
       "</table>\n",
       "</div>"
      ],
      "text/plain": [
       "        Team Name           Player       Span  Mat Inns  Overs Mdns Runs  \\\n",
       "0  Janakpur Bolts     LN Rajbanshi  2024-2024   10   10   40.0    5  213   \n",
       "1  Janakpur Bolts  Mohammad Mohsin  2024-2024    9    9   34.3    2  200   \n",
       "2  Janakpur Bolts         H Thaker  2024-2024   10    9   31.0    2  197   \n",
       "3  Janakpur Bolts          S Malla  2024-2024    8    7   19.3    -  132   \n",
       "4  Janakpur Bolts         K Mahato  2024-2024   10   10   33.0    1  265   \n",
       "\n",
       "   Wkts   BBI    Ave  Econ    SR  5 10 Ct St  \n",
       "0    17   3/8  12.52  5.32  14.1  -  -  3  -  \n",
       "1    12  3/40  16.66  5.79  17.2  -  -  3  -  \n",
       "2    11  5/23  17.90  6.35  16.9  1  -  2  -  \n",
       "3     7  3/11  18.85  6.76  16.7  -  -  1  -  \n",
       "4    14  4/35  18.92  8.03  14.1  -  -  1  -  "
      ]
     },
     "execution_count": 109,
     "metadata": {},
     "output_type": "execute_result"
    }
   ],
   "source": [
    "df = pd.read_csv('bowling_average.csv')\n",
    "df.head()"
   ]
  },
  {
   "cell_type": "markdown",
   "metadata": {},
   "source": [
    "# Highest Wickets info"
   ]
  },
  {
   "cell_type": "code",
   "execution_count": 110,
   "metadata": {},
   "outputs": [],
   "source": [
    "highest_wkts = df.sort_values(by='Wkts',ascending=False).reset_index(drop=True).iloc[0]"
   ]
  },
  {
   "cell_type": "code",
   "execution_count": 111,
   "metadata": {},
   "outputs": [
    {
     "data": {
      "text/html": [
       " \n",
       "<div style=\"text-align:center; font-family:Arial; font-size:16px; color: #333;\">\n",
       "    <h2 style=\"color:#2E86C1;\"> 🏏 Cricket Player Statistics</h2>\n",
       "    <p  style=\"color: #4CAF50;\"><b>The player with the highest number of wickets taken in NPL Season 1 is <span style=\"color:#C0392B;\">LN Rajbanshi</b></span>.<br> He took <b> 17 wickets </b> with 10 matches played.</p>\n",
       "</div>\n"
      ],
      "text/plain": [
       "<IPython.core.display.HTML object>"
      ]
     },
     "metadata": {},
     "output_type": "display_data"
    },
    {
     "data": {
      "text/html": [
       "\n",
       "<div style=\"text-align: center; margin-top: 20px;\">\n",
       "    <img src=\"images/lalit_best.jpg\" style=\"width: 400px; height: 300px; border: 2px solid #333; border-radius: 10px; box-shadow: 0px 4px 10px rgba(0, 0, 0, 0.3);\">\n",
       "</div>\n"
      ],
      "text/plain": [
       "<IPython.core.display.HTML object>"
      ]
     },
     "metadata": {},
     "output_type": "display_data"
    }
   ],
   "source": [
    "img = PILImage.open('images/lalit_best.jpg')\n",
    "info_text = f\"\"\" \n",
    "<div style=\"text-align:center; font-family:Arial; font-size:16px; color: #333;\">\n",
    "    <h2 style=\"color:#2E86C1;\"> 🏏 Cricket Player Statistics</h2>\n",
    "    <p  style=\"color: #4CAF50;\"><b>The player with the highest number of wickets taken in NPL Season 1 is <span style=\"color:#C0392B;\">{highest_wkts['Player']}</b></span>.<br> He took <b> {highest_wkts['Wkts']} wickets </b> with {highest_wkts['Mat']} matches played.</p>\n",
    "</div>\n",
    "\"\"\"\n",
    "\n",
    "info_img = f\"\"\"\n",
    "<div style=\"text-align: center; margin-top: 20px;\">\n",
    "    <img src=\"images/lalit_best.jpg\" style=\"width: 400px; height: 300px; border: 2px solid #333; border-radius: 10px; box-shadow: 0px 4px 10px rgba(0, 0, 0, 0.3);\">\n",
    "</div>\n",
    "\"\"\"\n",
    "\n",
    "display(HTML(info_text))\n",
    "display(HTML(info_img))"
   ]
  },
  {
   "cell_type": "markdown",
   "metadata": {},
   "source": [
    "## Highest Maiden Overs "
   ]
  },
  {
   "cell_type": "code",
   "execution_count": 112,
   "metadata": {},
   "outputs": [],
   "source": [
    "highest_maiden_player = df.sort_values(by = 'Mdns',ascending=False).reset_index(drop=True).iloc[0]"
   ]
  },
  {
   "cell_type": "code",
   "execution_count": 113,
   "metadata": {},
   "outputs": [
    {
     "data": {
      "text/html": [
       "\n",
       "<div style=\"text-align: center; font-family: Arial, sans-serif; margin-top: 30px;\">\n",
       "    \n",
       "<div style=\"text-align: center; font-family: Arial, sans-serif; font-size: 16px; color: #333; margin-top: 20px;\">\n",
       "    <h2 style=\"color: #2E86C1;\">🏏 Highest Maiden Overs Statistics</h2>\n",
       "    <p style=\"color: #4CAF50;\"><b>The player with the highest number of maiden overs is <span style=\"color: #C0392B;\">LN Rajbanshi</span>.</b></p>\n",
       "    <p style=\"color: #4CAF50;\">He bowled <b>5 maiden overs</b> during his season campaign with <b>17 wickets</b> taken.</p>\n",
       "</div>\n",
       "\n",
       "    \n",
       "<div style=\"text-align: center; position: relative; margin-top: 20px; display: inline-block;\">\n",
       "    <img src=\"images/rajbanshi.webp\" \n",
       "         style=\"width: 400px; height: 300px; border: 2px solid #333; border-radius: 10px; box-shadow: 0px 4px 10px rgba(0, 0, 0, 0.3);\">\n",
       "    \n",
       "    <div style=\"\n",
       "        position: absolute;\n",
       "        bottom: 10px; \n",
       "        right: 10px; \n",
       "        background-color: rgba(0, 0, 0, 0.7); \n",
       "        color: white; \n",
       "        padding: 10px; \n",
       "        border-radius: 8px;\n",
       "        box-shadow: 0px 4px 10px rgba(0, 0, 0, 0.5);\n",
       "        font-family: Arial, sans-serif;\n",
       "        font-size: 14px;\n",
       "    \">\n",
       "        <p style=\"margin: 5px 0;\"><b>Avg:</b> 24.5</p>\n",
       "        <p style=\"margin: 5px 0;\"><b>Economy:</b> 3.2</p>\n",
       "        <p style=\"margin: 5px 0;\"><b>BBI:</b> 5/12</p>\n",
       "        <p style=\"margin: 5px 0;\"><b>Wickets:</b> 15</p>\n",
       "    </div>\n",
       "</div>\n",
       "\n",
       "</div>\n"
      ],
      "text/plain": [
       "<IPython.core.display.HTML object>"
      ]
     },
     "metadata": {},
     "output_type": "display_data"
    }
   ],
   "source": [
    "info_text = f\"\"\"\n",
    "<div style=\"text-align: center; font-family: Arial, sans-serif; font-size: 16px; color: #333; margin-top: 20px;\">\n",
    "    <h2 style=\"color: #2E86C1;\">🏏 Highest Maiden Overs Statistics</h2>\n",
    "    <p style=\"color: #4CAF50;\"><b>The player with the highest number of maiden overs is <span style=\"color: #C0392B;\">{highest_maiden_player['Player']}</span>.</b></p>\n",
    "    <p style=\"color: #4CAF50;\">He bowled <b>{highest_maiden_player['Mdns']} maiden overs</b> during his season campaign with <b>{highest_maiden_player['Wkts']} wickets</b> taken.</p>\n",
    "</div>\n",
    "\"\"\"\n",
    "\n",
    "info_img = \"\"\"\n",
    "<div style=\"text-align: center; position: relative; margin-top: 20px; display: inline-block;\">\n",
    "    <img src=\"images/rajbanshi.webp\" \n",
    "         style=\"width: 400px; height: 300px; border: 2px solid #333; border-radius: 10px; box-shadow: 0px 4px 10px rgba(0, 0, 0, 0.3);\">\n",
    "    \n",
    "    <div style=\"\n",
    "        position: absolute;\n",
    "        bottom: 10px; \n",
    "        right: 10px; \n",
    "        background-color: rgba(0, 0, 0, 0.7); \n",
    "        color: white; \n",
    "        padding: 10px; \n",
    "        border-radius: 8px;\n",
    "        box-shadow: 0px 4px 10px rgba(0, 0, 0, 0.5);\n",
    "        font-family: Arial, sans-serif;\n",
    "        font-size: 14px;\n",
    "    \">\n",
    "        <p style=\"margin: 5px 0;\"><b>Avg:</b> 24.5</p>\n",
    "        <p style=\"margin: 5px 0;\"><b>Economy:</b> 3.2</p>\n",
    "        <p style=\"margin: 5px 0;\"><b>BBI:</b> 5/12</p>\n",
    "        <p style=\"margin: 5px 0;\"><b>Wickets:</b> 15</p>\n",
    "    </div>\n",
    "</div>\n",
    "\"\"\"\n",
    "\n",
    "final_layout = f\"\"\"\n",
    "<div style=\"text-align: center; font-family: Arial, sans-serif; margin-top: 30px;\">\n",
    "    {info_text}\n",
    "    {info_img}\n",
    "</div>\n",
    "\"\"\"\n",
    "\n",
    "display(HTML(final_layout))"
   ]
  },
  {
   "cell_type": "code",
   "execution_count": null,
   "metadata": {},
   "outputs": [],
   "source": []
  }
 ],
 "metadata": {
  "kernelspec": {
   "display_name": "Python 3",
   "language": "python",
   "name": "python3"
  },
  "language_info": {
   "codemirror_mode": {
    "name": "ipython",
    "version": 3
   },
   "file_extension": ".py",
   "mimetype": "text/x-python",
   "name": "python",
   "nbconvert_exporter": "python",
   "pygments_lexer": "ipython3",
   "version": "3.12.5"
  }
 },
 "nbformat": 4,
 "nbformat_minor": 2
}
