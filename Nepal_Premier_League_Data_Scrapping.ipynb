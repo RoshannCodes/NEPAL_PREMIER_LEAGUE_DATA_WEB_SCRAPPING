{
 "cells": [
  {
   "cell_type": "code",
   "execution_count": 32,
   "metadata": {},
   "outputs": [],
   "source": [
    "from bs4 import BeautifulSoup\n",
    "from selenium import webdriver\n",
    "from selenium.webdriver.common.by import By\n",
    "from selenium.webdriver.support.ui import WebDriverWait\n",
    "from selenium.webdriver.support import expected_conditions as EC"
   ]
  },
  {
   "cell_type": "code",
   "execution_count": 33,
   "metadata": {},
   "outputs": [],
   "source": [
    "import selenium\n",
    "from selenium import webdriver\n",
    "from selenium.webdriver.common.by import By\n",
    "from selenium.webdriver.common.keys import Keys\n",
    "from selenium.webdriver.firefox.service import Service\n",
    "from bs4 import BeautifulSoup\n",
    "import time"
   ]
  },
  {
   "cell_type": "code",
   "execution_count": 34,
   "metadata": {},
   "outputs": [],
   "source": [
    "service = Service(r'C:\\\\Users\\\\Roshan Koirala\\\\Desktop\\\\FUN with GPT\\\\NEPAL PREMIER LEAGUE\\\\NPL NEW TRY\\\\geckodriver-v0.35.0-win64 (1)\\\\geckodriver.exe')\n",
    "\n",
    "driver = webdriver.Firefox(service=service)"
   ]
  },
  {
   "cell_type": "code",
   "execution_count": 35,
   "metadata": {},
   "outputs": [
    {
     "name": "stdout",
     "output_type": "stream",
     "text": [
      "https://www.espncricinfo.com/series/nepal-premier-league-2024-25-1462594/biratnagar-kings-npl-vs-janakpur-bolts-npl-1st-match-1462596/full-scorecard\n",
      "https://www.espncricinfo.com/series/nepal-premier-league-2024-25-1462594/kathmandu-gurkhas-npl-vs-chitwan-rhinos-npl-2nd-match-1462640/full-scorecard\n",
      "https://www.espncricinfo.com/series/nepal-premier-league-2024-25-1462594/janakpur-bolts-npl-vs-karnali-yaks-npl-3rd-match-1462641/full-scorecard\n",
      "https://www.espncricinfo.com/series/nepal-premier-league-2024-25-1462594/sudur-paschim-royals-npl-vs-biratnagar-kings-npl-4th-match-1462642/full-scorecard\n",
      "https://www.espncricinfo.com/series/nepal-premier-league-2024-25-1462594/chitwan-rhinos-npl-vs-pokhara-avengers-npl-5th-match-1462643/full-scorecard\n",
      "https://www.espncricinfo.com/series/nepal-premier-league-2024-25-1462594/karnali-yaks-npl-vs-kathmandu-gurkhas-npl-6th-match-1462644/full-scorecard\n",
      "https://www.espncricinfo.com/series/nepal-premier-league-2024-25-1462594/biratnagar-kings-npl-vs-lumbini-lions-npl-7th-match-1462645/full-scorecard\n",
      "https://www.espncricinfo.com/series/nepal-premier-league-2024-25-1462594/pokhara-avengers-npl-vs-janakpur-bolts-npl-8th-match-1462646/full-scorecard\n",
      "https://www.espncricinfo.com/series/nepal-premier-league-2024-25-1462594/kathmandu-gurkhas-npl-vs-sudur-paschim-royals-npl-9th-match-1462647/full-scorecard\n",
      "https://www.espncricinfo.com/series/nepal-premier-league-2024-25-1462594/karnali-yaks-npl-vs-chitwan-rhinos-npl-10th-match-1462648/full-scorecard\n",
      "https://www.espncricinfo.com/series/nepal-premier-league-2024-25-1462594/lumbini-lions-npl-vs-pokhara-avengers-npl-11th-match-1462649/full-scorecard\n",
      "https://www.espncricinfo.com/series/nepal-premier-league-2024-25-1462594/lumbini-lions-npl-vs-sudur-paschim-royals-npl-12th-match-1462650/full-scorecard\n",
      "https://www.espncricinfo.com/series/nepal-premier-league-2024-25-1462594/karnali-yaks-npl-vs-biratnagar-kings-npl-13th-match-1462651/full-scorecard\n",
      "https://www.espncricinfo.com/series/nepal-premier-league-2024-25-1462594/janakpur-bolts-npl-vs-lumbini-lions-npl-14th-match-1462652/full-scorecard\n",
      "https://www.espncricinfo.com/series/nepal-premier-league-2024-25-1462594/sudur-paschim-royals-npl-vs-chitwan-rhinos-npl-15th-match-1462653/full-scorecard\n",
      "https://www.espncricinfo.com/series/nepal-premier-league-2024-25-1462594/chitwan-rhinos-npl-vs-lumbini-lions-npl-16th-match-1462654/full-scorecard\n",
      "https://www.espncricinfo.com/series/nepal-premier-league-2024-25-1462594/karnali-yaks-npl-vs-pokhara-avengers-npl-17th-match-1462655/full-scorecard\n",
      "https://www.espncricinfo.com/series/nepal-premier-league-2024-25-1462594/janakpur-bolts-npl-vs-sudur-paschim-royals-npl-18th-match-1462656/full-scorecard\n",
      "https://www.espncricinfo.com/series/nepal-premier-league-2024-25-1462594/kathmandu-gurkhas-npl-vs-lumbini-lions-npl-19th-match-1462657/full-scorecard\n",
      "https://www.espncricinfo.com/series/nepal-premier-league-2024-25-1462594/pokhara-avengers-npl-vs-biratnagar-kings-npl-20th-matcgh-1462658/full-scorecard\n",
      "https://www.espncricinfo.com/series/nepal-premier-league-2024-25-1462594/janakpur-bolts-npl-vs-kathmandu-gurkhas-npl-21st-match-1462659/full-scorecard\n",
      "https://www.espncricinfo.com/series/nepal-premier-league-2024-25-1462594/lumbini-lions-npl-vs-karnali-yaks-npl-22nd-match-1462660/full-scorecard\n",
      "https://www.espncricinfo.com/series/nepal-premier-league-2024-25-1462594/biratnagar-kings-npl-vs-chitwan-rhinos-npl-23rd-match-1462661/full-scorecard\n",
      "https://www.espncricinfo.com/series/nepal-premier-league-2024-25-1462594/pokhara-avengers-npl-vs-kathmandu-gurkhas-npl-24th-match-1462662/full-scorecard\n",
      "https://www.espncricinfo.com/series/nepal-premier-league-2024-25-1462594/chitwan-rhinos-npl-vs-janakpur-bolts-npl-25th-match-1462663/full-scorecard\n",
      "https://www.espncricinfo.com/series/nepal-premier-league-2024-25-1462594/biratnagar-kings-npl-vs-kathmandu-gurkhas-npl-26th-match-1462664/full-scorecard\n",
      "https://www.espncricinfo.com/series/nepal-premier-league-2024-25-1462594/pokhara-avengers-npl-vs-sudur-paschim-royals-npl-27th-match-1462665/full-scorecard\n",
      "https://www.espncricinfo.com/series/nepal-premier-league-2024-25-1462594/sudur-paschim-royals-npl-vs-karnali-yaks-npl-28th-match-1462666/full-scorecard\n",
      "https://www.espncricinfo.com/series/nepal-premier-league-2024-25-1462594/chitwan-rhinos-npl-vs-karnali-yaks-npl-eliminator-1462667/full-scorecard\n",
      "https://www.espncricinfo.com/series/nepal-premier-league-2024-25-1462594/sudur-paschim-royals-npl-vs-janakpur-bolts-npl-qualifier-1-1462668/full-scorecard\n",
      "https://www.espncricinfo.com/series/nepal-premier-league-2024-25-1462594/janakpur-bolts-npl-vs-karnali-yaks-npl-qualifier-2-1462669/full-scorecard\n",
      "https://www.espncricinfo.com/series/nepal-premier-league-2024-25-1462594/sudur-paschim-royals-npl-vs-janakpur-bolts-npl-final-1462670/full-scorecard\n",
      "\n",
      "Total NPL matches: 32\n"
     ]
    }
   ],
   "source": [
    "from selenium import webdriver\n",
    "from selenium.webdriver.common.by import By\n",
    "\n",
    "driver = webdriver.Firefox()\n",
    "\n",
    "try:\n",
    "    url = \"https://www.espncricinfo.com/series/nepal-premier-league-2024-25-1462594/match-schedule-fixtures-and-results\"\n",
    "    driver.get(url)\n",
    "    time.sleep(5)\n",
    "    \n",
    "    npl_matches = []\n",
    "    \n",
    "    for _ in range(5):  \n",
    "        driver.execute_script(\"window.scrollTo(0, document.body.scrollHeight);\")\n",
    "        time.sleep(2)\n",
    "        \n",
    "        links = driver.find_elements(By.CSS_SELECTOR, \"a[href*='nepal-premier-league'][href*='full-scorecard']\")\n",
    "        for link in links:\n",
    "            href = link.get_attribute('href')\n",
    "            if href and href not in npl_matches:\n",
    "                npl_matches.append(href)\n",
    "    \n",
    "    for match in npl_matches:\n",
    "        print(match)\n",
    "    print(f\"\\nTotal NPL matches: {len(npl_matches)}\")\n",
    "\n",
    "except Exception as e:\n",
    "    print(f\"Error: {str(e)}\")\n",
    "finally:\n",
    "    driver.quit()"
   ]
  },
  {
   "cell_type": "code",
   "execution_count": 36,
   "metadata": {},
   "outputs": [],
   "source": [
    "def extract_team_names(driver):\n",
    "    team_elements = driver.find_elements(\n",
    "        By.CSS_SELECTOR, \".ds-text-title-xs.ds-font-bold.ds-capitalize\"\n",
    "    )\n",
    "\n",
    "    team_names = [team.text.strip() for team in team_elements]\n",
    "\n",
    "    if len(team_names) >= 2:\n",
    "        return team_names[0], team_names[1]\n",
    "    else:\n",
    "        return None, None"
   ]
  },
  {
   "cell_type": "code",
   "execution_count": 37,
   "metadata": {},
   "outputs": [],
   "source": [
    "def scrape_match_details(driver, match_url):\n",
    "    driver.get(match_url)\n",
    "    wait = WebDriverWait(driver, 10)\n",
    "\n",
    "    table = wait.until(EC.presence_of_element_located((By.CLASS_NAME, 'ds-table')))\n",
    "    soup = BeautifulSoup(driver.page_source, 'html.parser')\n",
    "    match_details = {}\n",
    "    rows = soup.find_all('tr')\n",
    "    \n",
    "    team1, team2 = extract_team_names(driver)\n",
    "    team1 = team1.split(' ')[:2]\n",
    "    team2 = team2.split(' ')[:2]\n",
    "    \n",
    "    match_details['Team 1'] = ' '.join(team1)\n",
    "    match_details['Team 2'] = ' '.join(team2) \n",
    "       \n",
    "    for row in rows:\n",
    "        cols = row.find_all('td')\n",
    "        if len(cols) == 2:  # two columns (label and value)\n",
    "            label = cols[0].text.strip()\n",
    "            value = cols[1].text.strip()\n",
    "            \n",
    "            if 'Toss' in label:\n",
    "                toss_winner_name = value.split(' ')[:2]\n",
    "                match_details['Toss_Winner'] = ' '.join(toss_winner_name)  \n",
    "                match_details['Toss_Decision'] = value.split(' ')[-2]\n",
    "            elif 'Series' in label:\n",
    "                match_details['Series'] = value\n",
    "            elif 'Season' in label:\n",
    "                match_details['Season'] = value\n",
    "            elif 'Player Of The Match' in label:\n",
    "                match_details['Player Of The Match'] = value\n",
    "            elif 'Match days' in label:\n",
    "                match_date = value.split(' ')[:3]\n",
    "                match_details['Match_Day'] = ' '.join(match_date)\n",
    "            elif 'Umpires' in label:\n",
    "                umpires = [a.text.strip() for a in cols[1].find_all('a')]\n",
    "                match_details['Umpires'] = umpires\n",
    "            # elif 'TV Umpire' in label:\n",
    "            #     match_details['TV Umpire'] = value\n",
    "            # elif 'Points' in label:\n",
    "            #     match_details['Points'] = value\n",
    "    match_info_p = soup.find('p', {'class': 'ds-text-tight-s ds-font-medium ds-truncate ds-text-typo'})\n",
    "    if match_info_p:\n",
    "        match_details['Match Info'] = match_info_p.text.strip()\n",
    "        \n",
    "    team_divs = soup.find_all('div', {'class': 'ds-text-tight-m ds-font-bold ds-text-typo'})\n",
    "    if len(team_divs) >= 2:  # Ensure two teams are present\n",
    "        match_details['Team 1'] = team_divs[0].text.strip()\n",
    "        match_details['Team 2'] = team_divs[1].text.strip()\n",
    "    target_element = soup.find('div', {'class': 'ds-text-compact-m ds-text-typo ds-text-right ds-whitespace-nowrap'})\n",
    "    if target_element:\n",
    "        target_value = target_element.find('strong').text.strip()\n",
    "        match_details['Target'] = target_value\n",
    "    else:\n",
    "        match_details['Target'] = 'Not Available'\n",
    "    return match_details"
   ]
  },
  {
   "cell_type": "code",
   "execution_count": 38,
   "metadata": {},
   "outputs": [],
   "source": [
    "service = Service(r'C:\\\\Users\\\\Roshan Koirala\\\\Desktop\\\\FUN with GPT\\\\NEPAL PREMIER LEAGUE\\\\NPL NEW TRY\\\\geckodriver-v0.35.0-win64 (1)\\\\geckodriver.exe')\n",
    "\n",
    "driver = webdriver.Firefox(service=service)"
   ]
  },
  {
   "cell_type": "code",
   "execution_count": 39,
   "metadata": {},
   "outputs": [
    {
     "name": "stdout",
     "output_type": "stream",
     "text": [
      "{'Team 1': 'Biratnagar Kings', 'Team 2': 'Janakpur Bolts', 'Toss_Winner': 'Janakpur Bolts', 'Toss_Decision': 'field', 'Series': 'Nepal Premier League', 'Season': '2024/25', 'Player Of The Match': 'Lahiru Milantha', 'Match_Day': '30 November 2024', 'Umpires': ['Durga Subedi', 'Vinay Kumar'], 'Match Info': 'Janakpur won by 8 wickets (with 27 balls remaining)', 'Target': '127', 'Winner_Team': 'Janakpur', 'won_by_margin': '8 wickets (with 27 balls remaining)'}\n",
      "{'Team 1': 'Kathmandu Gurkhas', 'Team 2': 'Chitwan Rhinos', 'Toss_Winner': 'Chitwan Rhinos', 'Toss_Decision': 'field', 'Series': 'Nepal Premier League', 'Season': '2024/25', 'Player Of The Match': 'Sohail Tanvir', 'Match_Day': '02 December 2024', 'Umpires': ['Buddhi Pradhan', 'Himal Giri'], 'Match Info': 'Chitwan won by 5 wickets (with 17 balls remaining)', 'Target': '111/9', 'Winner_Team': 'Chitwan', 'won_by_margin': '5 wickets (with 17 balls remaining)'}\n",
      "{'Team 1': 'Karnali Yaks', 'Team 2': 'Janakpur Bolts', 'Toss_Winner': 'Karnali Yaks', 'Toss_Decision': 'bat', 'Series': 'Nepal Premier League', 'Season': '2024/25', 'Player Of The Match': 'Anil Sah', 'Match_Day': '02 December 2024', 'Umpires': ['Bismillah Jan Shinwari', 'Rashid Riaz'], 'Match Info': 'Janakpur won by 8 wickets (with 29 balls remaining)', 'Target': '141/7', 'Winner_Team': 'Janakpur', 'won_by_margin': '8 wickets (with 29 balls remaining)'}\n",
      "{'Team 1': 'Sudur Paschim', 'Team 2': 'Biratnagar Kings', 'Toss_Winner': 'Biratnagar Kings', 'Toss_Decision': 'field', 'Series': 'Nepal Premier League', 'Season': '2024/25', 'Player Of The Match': 'Dipendra Singh Airee', 'Match_Day': '03 December 2024', 'Umpires': ['Durga Subedi', 'Himal Giri'], 'Match Info': 'S Paschim won by 90 runs', 'Target': '182/7', 'Winner_Team': 'S Paschim', 'won_by_margin': '90 runs'}\n",
      "{'Team 1': 'Chitwan Rhinos', 'Team 2': 'Pokhara Avengers', 'Toss_Winner': 'Pokhara Avengers', 'Toss_Decision': 'field', 'Series': 'Nepal Premier League', 'Season': '2024/25', 'Player Of The Match': 'Rijan Dhakal', 'Match_Day': '03 December 2024', 'Umpires': ['Bismillah Jan Shinwari', 'Vinay Kumar'], 'Match Info': 'Chitwan won by 87 runs', 'Target': '161/7', 'Winner_Team': 'Chitwan', 'won_by_margin': '87 runs'}\n",
      "{'Team 1': 'Karnali Yaks', 'Team 2': 'Kathmandu Gurkhas', 'Toss_Winner': 'Kathmandu Gurkhas', 'Toss_Decision': 'field', 'Series': 'Nepal Premier League', 'Season': '2024/25', 'Player Of The Match': 'Sumit Maharjan', 'Match_Day': '04 December 2024', 'Umpires': ['Himal Giri', 'Rashid Riaz'], 'Match Info': 'Kathmandu won by 3 wickets (with 3 balls remaining)', 'Target': '149/5', 'Winner_Team': 'Kathmandu', 'won_by_margin': '3 wickets (with 3 balls remaining)'}\n",
      "{'Team 1': 'Lumbini Lions', 'Team 2': 'Biratnagar Kings', 'Toss_Winner': 'Biratnagar Kings', 'Toss_Decision': 'field', 'Series': 'Nepal Premier League', 'Season': '2024/25', 'Player Of The Match': 'Lokesh Bam', 'Match_Day': '04 December 2024', 'Umpires': ['Bismillah Jan Shinwari', 'Buddhi Pradhan'], 'Match Info': 'Biratnagar won by 2 wickets (with 1 ball remaining)', 'Target': '191/7', 'Winner_Team': 'Biratnagar', 'won_by_margin': '2 wickets (with 1 ball remaining)'}\n",
      "{'Team 1': 'Pokhara Avengers', 'Team 2': 'Janakpur Bolts', 'Toss_Winner': 'Janakpur Bolts', 'Toss_Decision': 'field', 'Series': 'Nepal Premier League', 'Season': '2024/25', 'Player Of The Match': 'James Neesham', 'Match_Day': '05 December 2024', 'Umpires': ['Durga Subedi', 'Vinay Kumar'], 'Match Info': 'Janakpur won by 7 wickets (with 17 balls remaining)', 'Target': '138/7', 'Winner_Team': 'Janakpur', 'won_by_margin': '7 wickets (with 17 balls remaining)'}\n",
      "{'Team 1': 'Sudur Paschim', 'Team 2': 'Kathmandu Gurkhas', 'Toss_Winner': 'Kathmandu Gurkhas', 'Toss_Decision': 'field', 'Series': 'Nepal Premier League', 'Season': '2024/25', 'Player Of The Match': 'Naren Saud', 'Match_Day': '05 December 2024', 'Umpires': ['Himal Giri', 'Rashid Riaz'], 'Match Info': 'S Paschim won by 73 runs', 'Target': '167/6', 'Winner_Team': 'S Paschim', 'won_by_margin': '73 runs'}\n",
      "{'Team 1': 'Chitwan Rhinos', 'Team 2': 'Karnali Yaks', 'Toss_Winner': 'Karnali Yaks', 'Toss_Decision': 'field', 'Series': 'Nepal Premier League', 'Season': '2024/25', 'Player Of The Match': 'Bipin Sharma', 'Match_Day': '06 December 2024', 'Umpires': ['Bismillah Jan Shinwari', 'Durga Subedi'], 'Match Info': 'Karnali won by 6 wickets (with 1 ball remaining)', 'Target': '130/7', 'Winner_Team': 'Karnali', 'won_by_margin': '6 wickets (with 1 ball remaining)'}\n",
      "{'Team 1': 'Lumbini Lions', 'Team 2': 'Pokhara Avengers', 'Toss_Winner': 'Lumbini Lions', 'Toss_Decision': 'bat', 'Series': 'Nepal Premier League', 'Season': '2024/25', 'Player Of The Match': 'Andries Gous', 'Match_Day': '06 December 2024', 'Umpires': ['Buddhi Pradhan', 'Himal Giri'], 'Match Info': 'Pokhara won by 10 wickets (with 19 balls remaining)', 'Target': '170/5', 'Winner_Team': 'Pokhara', 'won_by_margin': '10 wickets (with 19 balls remaining)'}\n",
      "{'Team 1': 'Sudur Paschim', 'Team 2': 'Lumbini Lions', 'Toss_Winner': 'Lumbini Lions', 'Toss_Decision': 'field', 'Series': 'Nepal Premier League', 'Season': '2024/25', 'Player Of The Match': 'Saif Zaib', 'Match_Day': '07 December 2024', 'Umpires': ['Buddhi Pradhan', 'Rashid Riaz'], 'Match Info': 'S Paschim won by 45 runs', 'Target': '187/4', 'Winner_Team': 'S Paschim', 'won_by_margin': '45 runs'}\n",
      "{'Team 1': 'Karnali Yaks', 'Team 2': 'Biratnagar Kings', 'Toss_Winner': 'Biratnagar Kings', 'Toss_Decision': 'field', 'Series': 'Nepal Premier League', 'Season': '2024/25', 'Player Of The Match': 'William Bosisto', 'Match_Day': '07 December 2024', 'Umpires': ['Himal Giri', 'Vinay Kumar'], 'Match Info': 'Karnali won by 7 runs', 'Target': '133', 'Winner_Team': 'Karnali', 'won_by_margin': '7 runs'}\n",
      "{'Team 1': 'Janakpur Bolts', 'Team 2': 'Lumbini Lions', 'Toss_Winner': 'Lumbini Lions', 'Toss_Decision': 'field', 'Series': 'Nepal Premier League', 'Season': '2024/25', 'Player Of The Match': 'Harsh Thaker', 'Match_Day': '08 December 2024', 'Umpires': ['Durga Subedi', 'Himal Giri'], 'Match Info': 'Janakpur won by 1 run', 'Target': '136/9', 'Winner_Team': 'Janakpur', 'won_by_margin': '1 run'}\n",
      "{'Team 1': 'Chitwan Rhinos', 'Team 2': 'Sudur Paschim', 'Toss_Winner': 'Chitwan Rhinos', 'Toss_Decision': 'bat', 'Series': 'Nepal Premier League', 'Season': '2024/25', 'Player Of The Match': 'Hassan Eisakhil', 'Match_Day': '08 December 2024', 'Umpires': ['Bismillah Jan Shinwari', 'Rashid Riaz'], 'Match Info': 'Chitwan won by 33 runs', 'Target': '164/5', 'Winner_Team': 'Chitwan', 'won_by_margin': '33 runs'}\n",
      "{'Team 1': 'Lumbini Lions', 'Team 2': 'Chitwan Rhinos', 'Toss_Winner': 'Chitwan Rhinos', 'Toss_Decision': 'field', 'Series': 'Nepal Premier League', 'Season': '2024/25', 'Player Of The Match': 'Rohit Paudel', 'Match_Day': '10 December 2024', 'Umpires': ['Buddhi Pradhan', 'Himal Giri'], 'Match Info': 'Lumbini won by 33 runs', 'Target': '167/6', 'Winner_Team': 'Lumbini', 'won_by_margin': '33 runs'}\n",
      "{'Team 1': 'Pokhara Avengers', 'Team 2': 'Karnali Yaks', 'Toss_Winner': 'Pokhara Avengers', 'Toss_Decision': 'bat', 'Series': 'Nepal Premier League', 'Season': '2024/25', 'Player Of The Match': 'William Bosisto', 'Match_Day': '10 December 2024', 'Umpires': ['Bismillah Jan Shinwari', 'Sanjay Gurung'], 'Match Info': 'Karnali won by 7 wickets (with 30 balls remaining)', 'Target': '103', 'Winner_Team': 'Karnali', 'won_by_margin': '7 wickets (with 30 balls remaining)'}\n",
      "{'Team 1': 'Sudur Paschim', 'Team 2': 'Janakpur Bolts', 'Toss_Winner': 'Janakpur Bolts', 'Toss_Decision': 'field', 'Series': 'Nepal Premier League', 'Season': '2024/25', 'Player Of The Match': 'Ishan Pandey', 'Match_Day': '11 December 2024', 'Umpires': ['Durga Subedi', 'Vinay Kumar'], 'Match Info': 'S Paschim won by 72 runs', 'Target': '123/9', 'Winner_Team': 'S Paschim', 'won_by_margin': '72 runs'}\n",
      "{'Team 1': 'Kathmandu Gurkhas', 'Team 2': 'Lumbini Lions', 'Toss_Winner': 'Kathmandu Gurkhas', 'Toss_Decision': 'bat', 'Series': 'Nepal Premier League', 'Season': '2024/25', 'Player Of The Match': 'Karan KC', 'Match_Day': '11 December 2024', 'Umpires': ['Himal Giri', 'Rashid Riaz'], 'Match Info': 'Kathmandu won by 18 runs', 'Target': '103', 'Winner_Team': 'Kathmandu', 'won_by_margin': '18 runs'}\n",
      "{'Team 1': 'Biratnagar Kings', 'Team 2': 'Pokhara Avengers', 'Toss_Winner': 'Biratnagar Kings', 'Toss_Decision': 'bat', 'Series': 'Nepal Premier League', 'Season': '2024/25', 'Player Of The Match': 'Raymon Reifer', 'Match_Day': '12 December 2024', 'Umpires': ['Bismillah Jan Shinwari', 'Vinay Kumar'], 'Match Info': 'Match tied (Pokhara won the Super Over)', 'Target': '139/7'}\n",
      "{'Team 1': 'Kathmandu Gurkhas', 'Team 2': 'Janakpur Bolts', 'Toss_Winner': 'Kathmandu Gurkhas', 'Toss_Decision': 'bat', 'Series': 'Nepal Premier League', 'Season': '2024/25', 'Player Of The Match': 'Lalit Rajbanshi', 'Match_Day': '12 December 2024', 'Umpires': ['Himal Giri', 'Sanjay Gurung'], 'Match Info': 'Janakpur won by 5 wickets (with 25 balls remaining)', 'Target': '101', 'Winner_Team': 'Janakpur', 'won_by_margin': '5 wickets (with 25 balls remaining)'}\n",
      "{'Team 1': 'Karnali Yaks', 'Team 2': 'Lumbini Lions', 'Toss_Winner': 'Lumbini Lions', 'Toss_Decision': 'field', 'Series': 'Nepal Premier League', 'Season': '2024/25', 'Player Of The Match': 'William Bosisto', 'Match_Day': '13 December 2024', 'Umpires': ['Himal Giri', 'Rashid Riaz'], 'Match Info': 'Karnali won by 5 runs', 'Target': '128/8', 'Winner_Team': 'Karnali', 'won_by_margin': '5 runs'}\n",
      "{'Team 1': 'Biratnagar Kings', 'Team 2': 'Chitwan Rhinos', 'Toss_Winner': 'Biratnagar Kings', 'Toss_Decision': 'bat', 'Series': 'Nepal Premier League', 'Season': '2024/25', 'Player Of The Match': 'Basir Ahamad', 'Match_Day': '13 December 2024', 'Umpires': ['Bismillah Jan Shinwari', 'Buddhi Pradhan'], 'Match Info': 'Biratnagar won by 51 runs', 'Target': '181/5', 'Winner_Team': 'Biratnagar', 'won_by_margin': '51 runs'}\n",
      "{'Team 1': 'Pokhara Avengers', 'Team 2': 'Kathmandu Gurkhas', 'Toss_Winner': 'Kathmandu Gurkhas', 'Toss_Decision': 'field', 'Series': 'Nepal Premier League', 'Season': '2024/25', 'Player Of The Match': 'Stephen Eskinazi', 'Match_Day': '14 December 2024', 'Umpires': ['Durga Subedi', 'Rashid Riaz'], 'Match Info': 'Kathmandu won by 6 wickets (with 35 balls remaining)', 'Target': '138/8', 'Winner_Team': 'Kathmandu', 'won_by_margin': '6 wickets (with 35 balls remaining)'}\n",
      "{'Team 1': 'Chitwan Rhinos', 'Team 2': 'Janakpur Bolts', 'Toss_Winner': 'Chitwan Rhinos', 'Toss_Decision': 'bat', 'Series': 'Nepal Premier League', 'Season': '2024/25', 'Player Of The Match': 'Kushal Malla', 'Match_Day': '14 December 2024', 'Umpires': ['Sanjay Gurung', 'Vinay Kumar'], 'Match Info': 'Chitwan won by 32 runs', 'Target': '180/5', 'Winner_Team': 'Chitwan', 'won_by_margin': '32 runs'}\n",
      "{'Team 1': 'Biratnagar Kings', 'Team 2': 'Kathmandu Gurkhas', 'Toss_Winner': 'Kathmandu Gurkhas', 'Toss_Decision': 'field', 'Series': 'Nepal Premier League', 'Season': '2024/25', 'Player Of The Match': 'Dipesh Kandel', 'Match_Day': '15 December 2024', 'Umpires': ['Buddhi Pradhan', 'Durga Subedi'], 'Match Info': 'Kathmandu won by 1 wicket (with 11 balls remaining)', 'Target': '117', 'Winner_Team': 'Kathmandu', 'won_by_margin': '1 wicket (with 11 balls remaining)'}\n",
      "{'Team 1': 'Sudur Paschim', 'Team 2': 'Pokhara Avengers', 'Toss_Winner': 'Pokhara Avengers', 'Toss_Decision': 'field', 'Series': 'Nepal Premier League', 'Season': '2024/25', 'Player Of The Match': 'Scott Kuggeleijn', 'Match_Day': '15 December 2024', 'Umpires': ['Bismillah Jan Shinwari', 'Rashid Riaz'], 'Match Info': 'S Paschim won by 5 runs', 'Target': '153/7', 'Winner_Team': 'S Paschim', 'won_by_margin': '5 runs'}\n",
      "{'Team 1': 'Karnali Yaks', 'Team 2': 'Sudur Paschim', 'Toss_Winner': 'Sudur Paschim', 'Toss_Decision': 'field', 'Series': 'Nepal Premier League', 'Season': '2024/25', 'Player Of The Match': 'Dipendra Singh Airee', 'Match_Day': '16 December 2024', 'Umpires': ['Himal Giri', 'Sanjay Gurung'], 'Match Info': 'S Paschim won by 6 wickets (with 28 balls remaining)', 'Target': '101', 'Winner_Team': 'S Paschim', 'won_by_margin': '6 wickets (with 28 balls remaining)'}\n",
      "{'Team 1': 'Karnali Yaks', 'Team 2': 'Chitwan Rhinos', 'Toss_Winner': 'Chitwan Rhinos', 'Toss_Decision': 'field', 'Series': 'Karnali Yaks (NPL) advanced', 'Season': '2024/25', 'Player Of The Match': 'Chadwick Walton', 'Match_Day': '18 December 2024', 'Umpires': ['Rashid Riaz', 'Sanjay Gurung'], 'Match Info': 'Karnali won by 21 runs', 'Target': '175/6', 'Winner_Team': 'Karnali', 'won_by_margin': '21 runs'}\n",
      "{'Team 1': 'Janakpur Bolts', 'Team 2': 'Sudur Paschim', 'Toss_Winner': 'Janakpur Bolts', 'Toss_Decision': 'bat', 'Series': 'Sudur Paschim Royals (NPL) advanced', 'Season': '2024/25', 'Player Of The Match': 'Binod Bhandari', 'Match_Day': '18 December 2024', 'Umpires': ['Bismillah Jan Shinwari', 'Buddhi Pradhan'], 'Match Info': 'S Paschim won by 8 wickets (with 9 balls remaining)', 'Target': '139/9', 'Winner_Team': 'S Paschim', 'won_by_margin': '8 wickets (with 9 balls remaining)'}\n"
     ]
    },
    {
     "ename": "KeyboardInterrupt",
     "evalue": "",
     "output_type": "error",
     "traceback": [
      "\u001b[1;31m---------------------------------------------------------------------------\u001b[0m",
      "\u001b[1;31mKeyboardInterrupt\u001b[0m                         Traceback (most recent call last)",
      "Cell \u001b[1;32mIn[39], line 4\u001b[0m\n\u001b[0;32m      1\u001b[0m matches \u001b[38;5;241m=\u001b[39m []\n\u001b[0;32m      3\u001b[0m \u001b[38;5;28;01mfor\u001b[39;00m url \u001b[38;5;129;01min\u001b[39;00m npl_matches:\n\u001b[1;32m----> 4\u001b[0m     match_details \u001b[38;5;241m=\u001b[39m \u001b[43mscrape_match_details\u001b[49m\u001b[43m(\u001b[49m\u001b[43mdriver\u001b[49m\u001b[43m,\u001b[49m\u001b[43m \u001b[49m\u001b[43murl\u001b[49m\u001b[43m)\u001b[49m\n\u001b[0;32m      6\u001b[0m     match_info \u001b[38;5;241m=\u001b[39m match_details\u001b[38;5;241m.\u001b[39mget(\u001b[38;5;124m'\u001b[39m\u001b[38;5;124mMatch Info\u001b[39m\u001b[38;5;124m'\u001b[39m, \u001b[38;5;124m'\u001b[39m\u001b[38;5;124m'\u001b[39m)\n\u001b[0;32m      8\u001b[0m     \u001b[38;5;28;01mif\u001b[39;00m match_info: \n",
      "Cell \u001b[1;32mIn[37], line 2\u001b[0m, in \u001b[0;36mscrape_match_details\u001b[1;34m(driver, match_url)\u001b[0m\n\u001b[0;32m      1\u001b[0m \u001b[38;5;28;01mdef\u001b[39;00m \u001b[38;5;21mscrape_match_details\u001b[39m(driver, match_url):\n\u001b[1;32m----> 2\u001b[0m     \u001b[43mdriver\u001b[49m\u001b[38;5;241;43m.\u001b[39;49m\u001b[43mget\u001b[49m\u001b[43m(\u001b[49m\u001b[43mmatch_url\u001b[49m\u001b[43m)\u001b[49m\n\u001b[0;32m      3\u001b[0m     wait \u001b[38;5;241m=\u001b[39m WebDriverWait(driver, \u001b[38;5;241m10\u001b[39m)\n\u001b[0;32m      5\u001b[0m     table \u001b[38;5;241m=\u001b[39m wait\u001b[38;5;241m.\u001b[39muntil(EC\u001b[38;5;241m.\u001b[39mpresence_of_element_located((By\u001b[38;5;241m.\u001b[39mCLASS_NAME, \u001b[38;5;124m'\u001b[39m\u001b[38;5;124mds-table\u001b[39m\u001b[38;5;124m'\u001b[39m)))\n",
      "File \u001b[1;32m~\\AppData\\Roaming\\Python\\Python312\\site-packages\\selenium\\webdriver\\remote\\webdriver.py:393\u001b[0m, in \u001b[0;36mWebDriver.get\u001b[1;34m(self, url)\u001b[0m\n\u001b[0;32m    391\u001b[0m \u001b[38;5;28;01mdef\u001b[39;00m \u001b[38;5;21mget\u001b[39m(\u001b[38;5;28mself\u001b[39m, url: \u001b[38;5;28mstr\u001b[39m) \u001b[38;5;241m-\u001b[39m\u001b[38;5;241m>\u001b[39m \u001b[38;5;28;01mNone\u001b[39;00m:\n\u001b[0;32m    392\u001b[0m \u001b[38;5;250m    \u001b[39m\u001b[38;5;124;03m\"\"\"Loads a web page in the current browser session.\"\"\"\u001b[39;00m\n\u001b[1;32m--> 393\u001b[0m     \u001b[38;5;28;43mself\u001b[39;49m\u001b[38;5;241;43m.\u001b[39;49m\u001b[43mexecute\u001b[49m\u001b[43m(\u001b[49m\u001b[43mCommand\u001b[49m\u001b[38;5;241;43m.\u001b[39;49m\u001b[43mGET\u001b[49m\u001b[43m,\u001b[49m\u001b[43m \u001b[49m\u001b[43m{\u001b[49m\u001b[38;5;124;43m\"\u001b[39;49m\u001b[38;5;124;43murl\u001b[39;49m\u001b[38;5;124;43m\"\u001b[39;49m\u001b[43m:\u001b[49m\u001b[43m \u001b[49m\u001b[43murl\u001b[49m\u001b[43m}\u001b[49m\u001b[43m)\u001b[49m\n",
      "File \u001b[1;32m~\\AppData\\Roaming\\Python\\Python312\\site-packages\\selenium\\webdriver\\remote\\webdriver.py:382\u001b[0m, in \u001b[0;36mWebDriver.execute\u001b[1;34m(self, driver_command, params)\u001b[0m\n\u001b[0;32m    379\u001b[0m     \u001b[38;5;28;01melif\u001b[39;00m \u001b[38;5;124m\"\u001b[39m\u001b[38;5;124msessionId\u001b[39m\u001b[38;5;124m\"\u001b[39m \u001b[38;5;129;01mnot\u001b[39;00m \u001b[38;5;129;01min\u001b[39;00m params:\n\u001b[0;32m    380\u001b[0m         params[\u001b[38;5;124m\"\u001b[39m\u001b[38;5;124msessionId\u001b[39m\u001b[38;5;124m\"\u001b[39m] \u001b[38;5;241m=\u001b[39m \u001b[38;5;28mself\u001b[39m\u001b[38;5;241m.\u001b[39msession_id\n\u001b[1;32m--> 382\u001b[0m response \u001b[38;5;241m=\u001b[39m \u001b[38;5;28;43mself\u001b[39;49m\u001b[38;5;241;43m.\u001b[39;49m\u001b[43mcommand_executor\u001b[49m\u001b[38;5;241;43m.\u001b[39;49m\u001b[43mexecute\u001b[49m\u001b[43m(\u001b[49m\u001b[43mdriver_command\u001b[49m\u001b[43m,\u001b[49m\u001b[43m \u001b[49m\u001b[43mparams\u001b[49m\u001b[43m)\u001b[49m\n\u001b[0;32m    383\u001b[0m \u001b[38;5;28;01mif\u001b[39;00m response:\n\u001b[0;32m    384\u001b[0m     \u001b[38;5;28mself\u001b[39m\u001b[38;5;241m.\u001b[39merror_handler\u001b[38;5;241m.\u001b[39mcheck_response(response)\n",
      "File \u001b[1;32m~\\AppData\\Roaming\\Python\\Python312\\site-packages\\selenium\\webdriver\\remote\\remote_connection.py:404\u001b[0m, in \u001b[0;36mRemoteConnection.execute\u001b[1;34m(self, command, params)\u001b[0m\n\u001b[0;32m    402\u001b[0m trimmed \u001b[38;5;241m=\u001b[39m \u001b[38;5;28mself\u001b[39m\u001b[38;5;241m.\u001b[39m_trim_large_entries(params)\n\u001b[0;32m    403\u001b[0m LOGGER\u001b[38;5;241m.\u001b[39mdebug(\u001b[38;5;124m\"\u001b[39m\u001b[38;5;132;01m%s\u001b[39;00m\u001b[38;5;124m \u001b[39m\u001b[38;5;132;01m%s\u001b[39;00m\u001b[38;5;124m \u001b[39m\u001b[38;5;132;01m%s\u001b[39;00m\u001b[38;5;124m\"\u001b[39m, command_info[\u001b[38;5;241m0\u001b[39m], url, \u001b[38;5;28mstr\u001b[39m(trimmed))\n\u001b[1;32m--> 404\u001b[0m \u001b[38;5;28;01mreturn\u001b[39;00m \u001b[38;5;28;43mself\u001b[39;49m\u001b[38;5;241;43m.\u001b[39;49m\u001b[43m_request\u001b[49m\u001b[43m(\u001b[49m\u001b[43mcommand_info\u001b[49m\u001b[43m[\u001b[49m\u001b[38;5;241;43m0\u001b[39;49m\u001b[43m]\u001b[49m\u001b[43m,\u001b[49m\u001b[43m \u001b[49m\u001b[43murl\u001b[49m\u001b[43m,\u001b[49m\u001b[43m \u001b[49m\u001b[43mbody\u001b[49m\u001b[38;5;241;43m=\u001b[39;49m\u001b[43mdata\u001b[49m\u001b[43m)\u001b[49m\n",
      "File \u001b[1;32m~\\AppData\\Roaming\\Python\\Python312\\site-packages\\selenium\\webdriver\\remote\\remote_connection.py:428\u001b[0m, in \u001b[0;36mRemoteConnection._request\u001b[1;34m(self, method, url, body)\u001b[0m\n\u001b[0;32m    425\u001b[0m     body \u001b[38;5;241m=\u001b[39m \u001b[38;5;28;01mNone\u001b[39;00m\n\u001b[0;32m    427\u001b[0m \u001b[38;5;28;01mif\u001b[39;00m \u001b[38;5;28mself\u001b[39m\u001b[38;5;241m.\u001b[39m_client_config\u001b[38;5;241m.\u001b[39mkeep_alive:\n\u001b[1;32m--> 428\u001b[0m     response \u001b[38;5;241m=\u001b[39m \u001b[38;5;28;43mself\u001b[39;49m\u001b[38;5;241;43m.\u001b[39;49m\u001b[43m_conn\u001b[49m\u001b[38;5;241;43m.\u001b[39;49m\u001b[43mrequest\u001b[49m\u001b[43m(\u001b[49m\u001b[43mmethod\u001b[49m\u001b[43m,\u001b[49m\u001b[43m \u001b[49m\u001b[43murl\u001b[49m\u001b[43m,\u001b[49m\u001b[43m \u001b[49m\u001b[43mbody\u001b[49m\u001b[38;5;241;43m=\u001b[39;49m\u001b[43mbody\u001b[49m\u001b[43m,\u001b[49m\u001b[43m \u001b[49m\u001b[43mheaders\u001b[49m\u001b[38;5;241;43m=\u001b[39;49m\u001b[43mheaders\u001b[49m\u001b[43m,\u001b[49m\u001b[43m \u001b[49m\u001b[43mtimeout\u001b[49m\u001b[38;5;241;43m=\u001b[39;49m\u001b[38;5;28;43mself\u001b[39;49m\u001b[38;5;241;43m.\u001b[39;49m\u001b[43m_client_config\u001b[49m\u001b[38;5;241;43m.\u001b[39;49m\u001b[43mtimeout\u001b[49m\u001b[43m)\u001b[49m\n\u001b[0;32m    429\u001b[0m     statuscode \u001b[38;5;241m=\u001b[39m response\u001b[38;5;241m.\u001b[39mstatus\n\u001b[0;32m    430\u001b[0m \u001b[38;5;28;01melse\u001b[39;00m:\n",
      "File \u001b[1;32m~\\AppData\\Roaming\\Python\\Python312\\site-packages\\urllib3\\_request_methods.py:143\u001b[0m, in \u001b[0;36mRequestMethods.request\u001b[1;34m(self, method, url, body, fields, headers, json, **urlopen_kw)\u001b[0m\n\u001b[0;32m    135\u001b[0m     \u001b[38;5;28;01mreturn\u001b[39;00m \u001b[38;5;28mself\u001b[39m\u001b[38;5;241m.\u001b[39mrequest_encode_url(\n\u001b[0;32m    136\u001b[0m         method,\n\u001b[0;32m    137\u001b[0m         url,\n\u001b[1;32m   (...)\u001b[0m\n\u001b[0;32m    140\u001b[0m         \u001b[38;5;241m*\u001b[39m\u001b[38;5;241m*\u001b[39murlopen_kw,\n\u001b[0;32m    141\u001b[0m     )\n\u001b[0;32m    142\u001b[0m \u001b[38;5;28;01melse\u001b[39;00m:\n\u001b[1;32m--> 143\u001b[0m     \u001b[38;5;28;01mreturn\u001b[39;00m \u001b[38;5;28;43mself\u001b[39;49m\u001b[38;5;241;43m.\u001b[39;49m\u001b[43mrequest_encode_body\u001b[49m\u001b[43m(\u001b[49m\n\u001b[0;32m    144\u001b[0m \u001b[43m        \u001b[49m\u001b[43mmethod\u001b[49m\u001b[43m,\u001b[49m\u001b[43m \u001b[49m\u001b[43murl\u001b[49m\u001b[43m,\u001b[49m\u001b[43m \u001b[49m\u001b[43mfields\u001b[49m\u001b[38;5;241;43m=\u001b[39;49m\u001b[43mfields\u001b[49m\u001b[43m,\u001b[49m\u001b[43m \u001b[49m\u001b[43mheaders\u001b[49m\u001b[38;5;241;43m=\u001b[39;49m\u001b[43mheaders\u001b[49m\u001b[43m,\u001b[49m\u001b[43m \u001b[49m\u001b[38;5;241;43m*\u001b[39;49m\u001b[38;5;241;43m*\u001b[39;49m\u001b[43murlopen_kw\u001b[49m\n\u001b[0;32m    145\u001b[0m \u001b[43m    \u001b[49m\u001b[43m)\u001b[49m\n",
      "File \u001b[1;32m~\\AppData\\Roaming\\Python\\Python312\\site-packages\\urllib3\\_request_methods.py:278\u001b[0m, in \u001b[0;36mRequestMethods.request_encode_body\u001b[1;34m(self, method, url, fields, headers, encode_multipart, multipart_boundary, **urlopen_kw)\u001b[0m\n\u001b[0;32m    274\u001b[0m     extra_kw[\u001b[38;5;124m\"\u001b[39m\u001b[38;5;124mheaders\u001b[39m\u001b[38;5;124m\"\u001b[39m]\u001b[38;5;241m.\u001b[39msetdefault(\u001b[38;5;124m\"\u001b[39m\u001b[38;5;124mContent-Type\u001b[39m\u001b[38;5;124m\"\u001b[39m, content_type)\n\u001b[0;32m    276\u001b[0m extra_kw\u001b[38;5;241m.\u001b[39mupdate(urlopen_kw)\n\u001b[1;32m--> 278\u001b[0m \u001b[38;5;28;01mreturn\u001b[39;00m \u001b[38;5;28;43mself\u001b[39;49m\u001b[38;5;241;43m.\u001b[39;49m\u001b[43murlopen\u001b[49m\u001b[43m(\u001b[49m\u001b[43mmethod\u001b[49m\u001b[43m,\u001b[49m\u001b[43m \u001b[49m\u001b[43murl\u001b[49m\u001b[43m,\u001b[49m\u001b[43m \u001b[49m\u001b[38;5;241;43m*\u001b[39;49m\u001b[38;5;241;43m*\u001b[39;49m\u001b[43mextra_kw\u001b[49m\u001b[43m)\u001b[49m\n",
      "File \u001b[1;32m~\\AppData\\Roaming\\Python\\Python312\\site-packages\\urllib3\\poolmanager.py:443\u001b[0m, in \u001b[0;36mPoolManager.urlopen\u001b[1;34m(self, method, url, redirect, **kw)\u001b[0m\n\u001b[0;32m    441\u001b[0m     response \u001b[38;5;241m=\u001b[39m conn\u001b[38;5;241m.\u001b[39murlopen(method, url, \u001b[38;5;241m*\u001b[39m\u001b[38;5;241m*\u001b[39mkw)\n\u001b[0;32m    442\u001b[0m \u001b[38;5;28;01melse\u001b[39;00m:\n\u001b[1;32m--> 443\u001b[0m     response \u001b[38;5;241m=\u001b[39m \u001b[43mconn\u001b[49m\u001b[38;5;241;43m.\u001b[39;49m\u001b[43murlopen\u001b[49m\u001b[43m(\u001b[49m\u001b[43mmethod\u001b[49m\u001b[43m,\u001b[49m\u001b[43m \u001b[49m\u001b[43mu\u001b[49m\u001b[38;5;241;43m.\u001b[39;49m\u001b[43mrequest_uri\u001b[49m\u001b[43m,\u001b[49m\u001b[43m \u001b[49m\u001b[38;5;241;43m*\u001b[39;49m\u001b[38;5;241;43m*\u001b[39;49m\u001b[43mkw\u001b[49m\u001b[43m)\u001b[49m\n\u001b[0;32m    445\u001b[0m redirect_location \u001b[38;5;241m=\u001b[39m redirect \u001b[38;5;129;01mand\u001b[39;00m response\u001b[38;5;241m.\u001b[39mget_redirect_location()\n\u001b[0;32m    446\u001b[0m \u001b[38;5;28;01mif\u001b[39;00m \u001b[38;5;129;01mnot\u001b[39;00m redirect_location:\n",
      "File \u001b[1;32m~\\AppData\\Roaming\\Python\\Python312\\site-packages\\urllib3\\connectionpool.py:789\u001b[0m, in \u001b[0;36mHTTPConnectionPool.urlopen\u001b[1;34m(self, method, url, body, headers, retries, redirect, assert_same_host, timeout, pool_timeout, release_conn, chunked, body_pos, preload_content, decode_content, **response_kw)\u001b[0m\n\u001b[0;32m    786\u001b[0m response_conn \u001b[38;5;241m=\u001b[39m conn \u001b[38;5;28;01mif\u001b[39;00m \u001b[38;5;129;01mnot\u001b[39;00m release_conn \u001b[38;5;28;01melse\u001b[39;00m \u001b[38;5;28;01mNone\u001b[39;00m\n\u001b[0;32m    788\u001b[0m \u001b[38;5;66;03m# Make the request on the HTTPConnection object\u001b[39;00m\n\u001b[1;32m--> 789\u001b[0m response \u001b[38;5;241m=\u001b[39m \u001b[38;5;28;43mself\u001b[39;49m\u001b[38;5;241;43m.\u001b[39;49m\u001b[43m_make_request\u001b[49m\u001b[43m(\u001b[49m\n\u001b[0;32m    790\u001b[0m \u001b[43m    \u001b[49m\u001b[43mconn\u001b[49m\u001b[43m,\u001b[49m\n\u001b[0;32m    791\u001b[0m \u001b[43m    \u001b[49m\u001b[43mmethod\u001b[49m\u001b[43m,\u001b[49m\n\u001b[0;32m    792\u001b[0m \u001b[43m    \u001b[49m\u001b[43murl\u001b[49m\u001b[43m,\u001b[49m\n\u001b[0;32m    793\u001b[0m \u001b[43m    \u001b[49m\u001b[43mtimeout\u001b[49m\u001b[38;5;241;43m=\u001b[39;49m\u001b[43mtimeout_obj\u001b[49m\u001b[43m,\u001b[49m\n\u001b[0;32m    794\u001b[0m \u001b[43m    \u001b[49m\u001b[43mbody\u001b[49m\u001b[38;5;241;43m=\u001b[39;49m\u001b[43mbody\u001b[49m\u001b[43m,\u001b[49m\n\u001b[0;32m    795\u001b[0m \u001b[43m    \u001b[49m\u001b[43mheaders\u001b[49m\u001b[38;5;241;43m=\u001b[39;49m\u001b[43mheaders\u001b[49m\u001b[43m,\u001b[49m\n\u001b[0;32m    796\u001b[0m \u001b[43m    \u001b[49m\u001b[43mchunked\u001b[49m\u001b[38;5;241;43m=\u001b[39;49m\u001b[43mchunked\u001b[49m\u001b[43m,\u001b[49m\n\u001b[0;32m    797\u001b[0m \u001b[43m    \u001b[49m\u001b[43mretries\u001b[49m\u001b[38;5;241;43m=\u001b[39;49m\u001b[43mretries\u001b[49m\u001b[43m,\u001b[49m\n\u001b[0;32m    798\u001b[0m \u001b[43m    \u001b[49m\u001b[43mresponse_conn\u001b[49m\u001b[38;5;241;43m=\u001b[39;49m\u001b[43mresponse_conn\u001b[49m\u001b[43m,\u001b[49m\n\u001b[0;32m    799\u001b[0m \u001b[43m    \u001b[49m\u001b[43mpreload_content\u001b[49m\u001b[38;5;241;43m=\u001b[39;49m\u001b[43mpreload_content\u001b[49m\u001b[43m,\u001b[49m\n\u001b[0;32m    800\u001b[0m \u001b[43m    \u001b[49m\u001b[43mdecode_content\u001b[49m\u001b[38;5;241;43m=\u001b[39;49m\u001b[43mdecode_content\u001b[49m\u001b[43m,\u001b[49m\n\u001b[0;32m    801\u001b[0m \u001b[43m    \u001b[49m\u001b[38;5;241;43m*\u001b[39;49m\u001b[38;5;241;43m*\u001b[39;49m\u001b[43mresponse_kw\u001b[49m\u001b[43m,\u001b[49m\n\u001b[0;32m    802\u001b[0m \u001b[43m\u001b[49m\u001b[43m)\u001b[49m\n\u001b[0;32m    804\u001b[0m \u001b[38;5;66;03m# Everything went great!\u001b[39;00m\n\u001b[0;32m    805\u001b[0m clean_exit \u001b[38;5;241m=\u001b[39m \u001b[38;5;28;01mTrue\u001b[39;00m\n",
      "File \u001b[1;32m~\\AppData\\Roaming\\Python\\Python312\\site-packages\\urllib3\\connectionpool.py:536\u001b[0m, in \u001b[0;36mHTTPConnectionPool._make_request\u001b[1;34m(self, conn, method, url, body, headers, retries, timeout, chunked, response_conn, preload_content, decode_content, enforce_content_length)\u001b[0m\n\u001b[0;32m    534\u001b[0m \u001b[38;5;66;03m# Receive the response from the server\u001b[39;00m\n\u001b[0;32m    535\u001b[0m \u001b[38;5;28;01mtry\u001b[39;00m:\n\u001b[1;32m--> 536\u001b[0m     response \u001b[38;5;241m=\u001b[39m \u001b[43mconn\u001b[49m\u001b[38;5;241;43m.\u001b[39;49m\u001b[43mgetresponse\u001b[49m\u001b[43m(\u001b[49m\u001b[43m)\u001b[49m\n\u001b[0;32m    537\u001b[0m \u001b[38;5;28;01mexcept\u001b[39;00m (BaseSSLError, \u001b[38;5;167;01mOSError\u001b[39;00m) \u001b[38;5;28;01mas\u001b[39;00m e:\n\u001b[0;32m    538\u001b[0m     \u001b[38;5;28mself\u001b[39m\u001b[38;5;241m.\u001b[39m_raise_timeout(err\u001b[38;5;241m=\u001b[39me, url\u001b[38;5;241m=\u001b[39murl, timeout_value\u001b[38;5;241m=\u001b[39mread_timeout)\n",
      "File \u001b[1;32m~\\AppData\\Roaming\\Python\\Python312\\site-packages\\urllib3\\connection.py:507\u001b[0m, in \u001b[0;36mHTTPConnection.getresponse\u001b[1;34m(self)\u001b[0m\n\u001b[0;32m    504\u001b[0m \u001b[38;5;28;01mfrom\u001b[39;00m \u001b[38;5;21;01m.\u001b[39;00m\u001b[38;5;21;01mresponse\u001b[39;00m \u001b[38;5;28;01mimport\u001b[39;00m HTTPResponse\n\u001b[0;32m    506\u001b[0m \u001b[38;5;66;03m# Get the response from http.client.HTTPConnection\u001b[39;00m\n\u001b[1;32m--> 507\u001b[0m httplib_response \u001b[38;5;241m=\u001b[39m \u001b[38;5;28;43msuper\u001b[39;49m\u001b[43m(\u001b[49m\u001b[43m)\u001b[49m\u001b[38;5;241;43m.\u001b[39;49m\u001b[43mgetresponse\u001b[49m\u001b[43m(\u001b[49m\u001b[43m)\u001b[49m\n\u001b[0;32m    509\u001b[0m \u001b[38;5;28;01mtry\u001b[39;00m:\n\u001b[0;32m    510\u001b[0m     assert_header_parsing(httplib_response\u001b[38;5;241m.\u001b[39mmsg)\n",
      "File \u001b[1;32mc:\\Program Files\\Python312\\Lib\\http\\client.py:1428\u001b[0m, in \u001b[0;36mHTTPConnection.getresponse\u001b[1;34m(self)\u001b[0m\n\u001b[0;32m   1426\u001b[0m \u001b[38;5;28;01mtry\u001b[39;00m:\n\u001b[0;32m   1427\u001b[0m     \u001b[38;5;28;01mtry\u001b[39;00m:\n\u001b[1;32m-> 1428\u001b[0m         \u001b[43mresponse\u001b[49m\u001b[38;5;241;43m.\u001b[39;49m\u001b[43mbegin\u001b[49m\u001b[43m(\u001b[49m\u001b[43m)\u001b[49m\n\u001b[0;32m   1429\u001b[0m     \u001b[38;5;28;01mexcept\u001b[39;00m \u001b[38;5;167;01mConnectionError\u001b[39;00m:\n\u001b[0;32m   1430\u001b[0m         \u001b[38;5;28mself\u001b[39m\u001b[38;5;241m.\u001b[39mclose()\n",
      "File \u001b[1;32mc:\\Program Files\\Python312\\Lib\\http\\client.py:331\u001b[0m, in \u001b[0;36mHTTPResponse.begin\u001b[1;34m(self)\u001b[0m\n\u001b[0;32m    329\u001b[0m \u001b[38;5;66;03m# read until we get a non-100 response\u001b[39;00m\n\u001b[0;32m    330\u001b[0m \u001b[38;5;28;01mwhile\u001b[39;00m \u001b[38;5;28;01mTrue\u001b[39;00m:\n\u001b[1;32m--> 331\u001b[0m     version, status, reason \u001b[38;5;241m=\u001b[39m \u001b[38;5;28;43mself\u001b[39;49m\u001b[38;5;241;43m.\u001b[39;49m\u001b[43m_read_status\u001b[49m\u001b[43m(\u001b[49m\u001b[43m)\u001b[49m\n\u001b[0;32m    332\u001b[0m     \u001b[38;5;28;01mif\u001b[39;00m status \u001b[38;5;241m!=\u001b[39m CONTINUE:\n\u001b[0;32m    333\u001b[0m         \u001b[38;5;28;01mbreak\u001b[39;00m\n",
      "File \u001b[1;32mc:\\Program Files\\Python312\\Lib\\http\\client.py:292\u001b[0m, in \u001b[0;36mHTTPResponse._read_status\u001b[1;34m(self)\u001b[0m\n\u001b[0;32m    291\u001b[0m \u001b[38;5;28;01mdef\u001b[39;00m \u001b[38;5;21m_read_status\u001b[39m(\u001b[38;5;28mself\u001b[39m):\n\u001b[1;32m--> 292\u001b[0m     line \u001b[38;5;241m=\u001b[39m \u001b[38;5;28mstr\u001b[39m(\u001b[38;5;28;43mself\u001b[39;49m\u001b[38;5;241;43m.\u001b[39;49m\u001b[43mfp\u001b[49m\u001b[38;5;241;43m.\u001b[39;49m\u001b[43mreadline\u001b[49m\u001b[43m(\u001b[49m\u001b[43m_MAXLINE\u001b[49m\u001b[43m \u001b[49m\u001b[38;5;241;43m+\u001b[39;49m\u001b[43m \u001b[49m\u001b[38;5;241;43m1\u001b[39;49m\u001b[43m)\u001b[49m, \u001b[38;5;124m\"\u001b[39m\u001b[38;5;124miso-8859-1\u001b[39m\u001b[38;5;124m\"\u001b[39m)\n\u001b[0;32m    293\u001b[0m     \u001b[38;5;28;01mif\u001b[39;00m \u001b[38;5;28mlen\u001b[39m(line) \u001b[38;5;241m>\u001b[39m _MAXLINE:\n\u001b[0;32m    294\u001b[0m         \u001b[38;5;28;01mraise\u001b[39;00m LineTooLong(\u001b[38;5;124m\"\u001b[39m\u001b[38;5;124mstatus line\u001b[39m\u001b[38;5;124m\"\u001b[39m)\n",
      "File \u001b[1;32mc:\\Program Files\\Python312\\Lib\\socket.py:720\u001b[0m, in \u001b[0;36mSocketIO.readinto\u001b[1;34m(self, b)\u001b[0m\n\u001b[0;32m    718\u001b[0m \u001b[38;5;28;01mwhile\u001b[39;00m \u001b[38;5;28;01mTrue\u001b[39;00m:\n\u001b[0;32m    719\u001b[0m     \u001b[38;5;28;01mtry\u001b[39;00m:\n\u001b[1;32m--> 720\u001b[0m         \u001b[38;5;28;01mreturn\u001b[39;00m \u001b[38;5;28;43mself\u001b[39;49m\u001b[38;5;241;43m.\u001b[39;49m\u001b[43m_sock\u001b[49m\u001b[38;5;241;43m.\u001b[39;49m\u001b[43mrecv_into\u001b[49m\u001b[43m(\u001b[49m\u001b[43mb\u001b[49m\u001b[43m)\u001b[49m\n\u001b[0;32m    721\u001b[0m     \u001b[38;5;28;01mexcept\u001b[39;00m timeout:\n\u001b[0;32m    722\u001b[0m         \u001b[38;5;28mself\u001b[39m\u001b[38;5;241m.\u001b[39m_timeout_occurred \u001b[38;5;241m=\u001b[39m \u001b[38;5;28;01mTrue\u001b[39;00m\n",
      "\u001b[1;31mKeyboardInterrupt\u001b[0m: "
     ]
    }
   ],
   "source": [
    "matches = []\n",
    "\n",
    "for url in npl_matches:\n",
    "    match_details = scrape_match_details(driver, url)\n",
    "\n",
    "    match_info = match_details.get('Match Info', '')\n",
    "\n",
    "    if match_info: \n",
    "        match_info_parts = match_info.split(' by ')\n",
    "        \n",
    "        if len(match_info_parts) == 2:  # Ensure 'by' splitting gives two parts\n",
    "            winner_team = match_info_parts[0]\n",
    "            won_by_margin = match_info_parts[1].strip()\n",
    "            \n",
    "            if winner_team.startswith('S'):\n",
    "                match_details['Winner_Team'] = ' '.join(winner_team.split(' ')[:2])\n",
    "            else:\n",
    "                match_details['Winner_Team'] = winner_team.split(' ')[0]\n",
    "            \n",
    "            match_details['won_by_margin'] = won_by_margin\n",
    "\n",
    "    matches.append(match_details)\n",
    "    print(match_details)"
   ]
  },
  {
   "cell_type": "code",
   "execution_count": 41,
   "metadata": {},
   "outputs": [
    {
     "name": "stdout",
     "output_type": "stream",
     "text": [
      "Match details have been written to Nepal_Premier_League.csv\n"
     ]
    }
   ],
   "source": [
    "import csv\n",
    "\n",
    "csv_file_name = \"Nepal_Premier_League.csv\"\n",
    "\n",
    "if matches:\n",
    "    headers = matches[0].keys()  \n",
    "\n",
    "with open(csv_file_name, mode='w', newline='', encoding='utf-8') as csv_file:\n",
    "    writer = csv.DictWriter(csv_file, fieldnames=headers)\n",
    "    writer.writeheader()  \n",
    "    writer.writerows(matches)  \n",
    "\n",
    "print(f\"Match details have been written to {csv_file_name}\")"
   ]
  },
  {
   "cell_type": "code",
   "execution_count": null,
   "metadata": {},
   "outputs": [],
   "source": []
  }
 ],
 "metadata": {
  "kernelspec": {
   "display_name": "Python 3",
   "language": "python",
   "name": "python3"
  },
  "language_info": {
   "codemirror_mode": {
    "name": "ipython",
    "version": 3
   },
   "file_extension": ".py",
   "mimetype": "text/x-python",
   "name": "python",
   "nbconvert_exporter": "python",
   "pygments_lexer": "ipython3",
   "version": "3.12.5"
  }
 },
 "nbformat": 4,
 "nbformat_minor": 4
}
