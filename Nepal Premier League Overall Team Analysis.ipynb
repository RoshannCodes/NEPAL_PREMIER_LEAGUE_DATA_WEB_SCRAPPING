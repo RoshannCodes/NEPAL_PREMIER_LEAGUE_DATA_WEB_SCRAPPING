{
 "cells": [
  {
   "cell_type": "code",
   "execution_count": 1,
   "metadata": {},
   "outputs": [],
   "source": [
    "import pandas as pd"
   ]
  },
  {
   "cell_type": "code",
   "execution_count": 2,
   "metadata": {},
   "outputs": [
    {
     "data": {
      "text/html": [
       "<div>\n",
       "<style scoped>\n",
       "    .dataframe tbody tr th:only-of-type {\n",
       "        vertical-align: middle;\n",
       "    }\n",
       "\n",
       "    .dataframe tbody tr th {\n",
       "        vertical-align: top;\n",
       "    }\n",
       "\n",
       "    .dataframe thead th {\n",
       "        text-align: right;\n",
       "    }\n",
       "</style>\n",
       "<table border=\"1\" class=\"dataframe\">\n",
       "  <thead>\n",
       "    <tr style=\"text-align: right;\">\n",
       "      <th></th>\n",
       "      <th>Team 1</th>\n",
       "      <th>Team 2</th>\n",
       "      <th>Toss_Winner</th>\n",
       "      <th>Toss_Decision</th>\n",
       "      <th>Season</th>\n",
       "      <th>Player Of The Match</th>\n",
       "      <th>Match_Day</th>\n",
       "      <th>Umpires</th>\n",
       "      <th>Match Info</th>\n",
       "      <th>First_Team_Performance</th>\n",
       "      <th>...</th>\n",
       "      <th>Run_Scored_By_2nd_Team</th>\n",
       "      <th>Wic_Lost_by_2nd_Team</th>\n",
       "      <th>Run_Rate_Team_1</th>\n",
       "      <th>Run_Rate_Team_2</th>\n",
       "      <th>Winner_Team</th>\n",
       "      <th>won_by_margin</th>\n",
       "      <th>Powerplay1</th>\n",
       "      <th>Powerplay2</th>\n",
       "      <th>Extras_of_inning_1</th>\n",
       "      <th>Extras_of_inning_2</th>\n",
       "    </tr>\n",
       "  </thead>\n",
       "  <tbody>\n",
       "    <tr>\n",
       "      <th>0</th>\n",
       "      <td>Biratnagar Kings</td>\n",
       "      <td>Janakpur Bolts</td>\n",
       "      <td>Janakpur Bolts</td>\n",
       "      <td>field</td>\n",
       "      <td>2024/25</td>\n",
       "      <td>Lahiru Milantha</td>\n",
       "      <td>30 November 2024</td>\n",
       "      <td>['Durga Subedi', 'Vinay Kumar']</td>\n",
       "      <td>Janakpur won by 8 wickets (with 27 balls remai...</td>\n",
       "      <td>127</td>\n",
       "      <td>...</td>\n",
       "      <td>131</td>\n",
       "      <td>2</td>\n",
       "      <td>6.68</td>\n",
       "      <td>8.45</td>\n",
       "      <td>Janakpur</td>\n",
       "      <td>8 wickets (with 27 balls remaining)</td>\n",
       "      <td>38/1</td>\n",
       "      <td>52/2</td>\n",
       "      <td>15</td>\n",
       "      <td>22</td>\n",
       "    </tr>\n",
       "    <tr>\n",
       "      <th>1</th>\n",
       "      <td>Kathmandu Gurkhas</td>\n",
       "      <td>Chitwan Rhinos</td>\n",
       "      <td>Chitwan Rhinos</td>\n",
       "      <td>field</td>\n",
       "      <td>2024/25</td>\n",
       "      <td>Sohail Tanvir</td>\n",
       "      <td>02 December 2024</td>\n",
       "      <td>['Buddhi Pradhan', 'Himal Giri']</td>\n",
       "      <td>Chitwan won by 5 wickets (with 17 balls remain...</td>\n",
       "      <td>111/9</td>\n",
       "      <td>...</td>\n",
       "      <td>114</td>\n",
       "      <td>5</td>\n",
       "      <td>5.55</td>\n",
       "      <td>6.64</td>\n",
       "      <td>Chitwan</td>\n",
       "      <td>5 wickets (with 17 balls remaining)</td>\n",
       "      <td>39/4</td>\n",
       "      <td>46/2</td>\n",
       "      <td>8</td>\n",
       "      <td>12</td>\n",
       "    </tr>\n",
       "    <tr>\n",
       "      <th>2</th>\n",
       "      <td>Karnali Yaks</td>\n",
       "      <td>Janakpur Bolts</td>\n",
       "      <td>Karnali Yaks</td>\n",
       "      <td>bat</td>\n",
       "      <td>2024/25</td>\n",
       "      <td>Anil Sah</td>\n",
       "      <td>02 December 2024</td>\n",
       "      <td>['Bismillah Jan Shinwari', 'Rashid Riaz']</td>\n",
       "      <td>Janakpur won by 8 wickets (with 29 balls remai...</td>\n",
       "      <td>141/7</td>\n",
       "      <td>...</td>\n",
       "      <td>142</td>\n",
       "      <td>2</td>\n",
       "      <td>7.05</td>\n",
       "      <td>9.36</td>\n",
       "      <td>Janakpur</td>\n",
       "      <td>8 wickets (with 29 balls remaining)</td>\n",
       "      <td>31/2</td>\n",
       "      <td>56/0</td>\n",
       "      <td>8</td>\n",
       "      <td>4</td>\n",
       "    </tr>\n",
       "    <tr>\n",
       "      <th>3</th>\n",
       "      <td>Sudur Paschim</td>\n",
       "      <td>Biratnagar Kings</td>\n",
       "      <td>Biratnagar Kings</td>\n",
       "      <td>field</td>\n",
       "      <td>2024/25</td>\n",
       "      <td>Dipendra Singh Airee</td>\n",
       "      <td>03 December 2024</td>\n",
       "      <td>['Durga Subedi', 'Himal Giri']</td>\n",
       "      <td>S Paschim won by 90 runs</td>\n",
       "      <td>182/7</td>\n",
       "      <td>...</td>\n",
       "      <td>92</td>\n",
       "      <td>10</td>\n",
       "      <td>9.10</td>\n",
       "      <td>5.69</td>\n",
       "      <td>S Paschim</td>\n",
       "      <td>90 runs</td>\n",
       "      <td>43/3</td>\n",
       "      <td>21/3</td>\n",
       "      <td>7</td>\n",
       "      <td>7</td>\n",
       "    </tr>\n",
       "    <tr>\n",
       "      <th>4</th>\n",
       "      <td>Chitwan Rhinos</td>\n",
       "      <td>Pokhara Avengers</td>\n",
       "      <td>Pokhara Avengers</td>\n",
       "      <td>field</td>\n",
       "      <td>2024/25</td>\n",
       "      <td>Rijan Dhakal</td>\n",
       "      <td>03 December 2024</td>\n",
       "      <td>['Bismillah Jan Shinwari', 'Vinay Kumar']</td>\n",
       "      <td>Chitwan won by 87 runs</td>\n",
       "      <td>161/7</td>\n",
       "      <td>...</td>\n",
       "      <td>74</td>\n",
       "      <td>10</td>\n",
       "      <td>8.05</td>\n",
       "      <td>5.55</td>\n",
       "      <td>Chitwan</td>\n",
       "      <td>87 runs</td>\n",
       "      <td>50/3</td>\n",
       "      <td>16/6</td>\n",
       "      <td>5</td>\n",
       "      <td>11</td>\n",
       "    </tr>\n",
       "    <tr>\n",
       "      <th>5</th>\n",
       "      <td>Karnali Yaks</td>\n",
       "      <td>Kathmandu Gurkhas</td>\n",
       "      <td>Kathmandu Gurkhas</td>\n",
       "      <td>field</td>\n",
       "      <td>2024/25</td>\n",
       "      <td>Sumit Maharjan</td>\n",
       "      <td>04 December 2024</td>\n",
       "      <td>['Himal Giri', 'Rashid Riaz']</td>\n",
       "      <td>Kathmandu won by 3 wickets (with 3 balls remai...</td>\n",
       "      <td>149/5</td>\n",
       "      <td>...</td>\n",
       "      <td>153</td>\n",
       "      <td>7</td>\n",
       "      <td>7.45</td>\n",
       "      <td>7.84</td>\n",
       "      <td>Kathmandu</td>\n",
       "      <td>3 wickets (with 3 balls remaining)</td>\n",
       "      <td>39/2</td>\n",
       "      <td>37/2</td>\n",
       "      <td>13</td>\n",
       "      <td>7</td>\n",
       "    </tr>\n",
       "    <tr>\n",
       "      <th>6</th>\n",
       "      <td>Lumbini Lions</td>\n",
       "      <td>Biratnagar Kings</td>\n",
       "      <td>Biratnagar Kings</td>\n",
       "      <td>field</td>\n",
       "      <td>2024/25</td>\n",
       "      <td>Lokesh Bam</td>\n",
       "      <td>04 December 2024</td>\n",
       "      <td>['Bismillah Jan Shinwari', 'Buddhi Pradhan']</td>\n",
       "      <td>Biratnagar won by 2 wickets (with 1 ball remai...</td>\n",
       "      <td>191/7</td>\n",
       "      <td>...</td>\n",
       "      <td>193</td>\n",
       "      <td>8</td>\n",
       "      <td>9.55</td>\n",
       "      <td>9.73</td>\n",
       "      <td>Biratnagar</td>\n",
       "      <td>2 wickets (with 1 ball remaining)</td>\n",
       "      <td>56/1</td>\n",
       "      <td>54/1</td>\n",
       "      <td>29</td>\n",
       "      <td>20</td>\n",
       "    </tr>\n",
       "    <tr>\n",
       "      <th>7</th>\n",
       "      <td>Pokhara Avengers</td>\n",
       "      <td>Janakpur Bolts</td>\n",
       "      <td>Janakpur Bolts</td>\n",
       "      <td>field</td>\n",
       "      <td>2024/25</td>\n",
       "      <td>James Neesham</td>\n",
       "      <td>05 December 2024</td>\n",
       "      <td>['Durga Subedi', 'Vinay Kumar']</td>\n",
       "      <td>Janakpur won by 7 wickets (with 17 balls remai...</td>\n",
       "      <td>138/7</td>\n",
       "      <td>...</td>\n",
       "      <td>143</td>\n",
       "      <td>3</td>\n",
       "      <td>6.90</td>\n",
       "      <td>8.33</td>\n",
       "      <td>Janakpur</td>\n",
       "      <td>7 wickets (with 17 balls remaining)</td>\n",
       "      <td>35/2</td>\n",
       "      <td>62/1</td>\n",
       "      <td>8</td>\n",
       "      <td>11</td>\n",
       "    </tr>\n",
       "    <tr>\n",
       "      <th>8</th>\n",
       "      <td>Sudur Paschim</td>\n",
       "      <td>Kathmandu Gurkhas</td>\n",
       "      <td>Kathmandu Gurkhas</td>\n",
       "      <td>field</td>\n",
       "      <td>2024/25</td>\n",
       "      <td>Naren Saud</td>\n",
       "      <td>05 December 2024</td>\n",
       "      <td>['Himal Giri', 'Rashid Riaz']</td>\n",
       "      <td>S Paschim won by 73 runs</td>\n",
       "      <td>167/6</td>\n",
       "      <td>...</td>\n",
       "      <td>94</td>\n",
       "      <td>10</td>\n",
       "      <td>8.35</td>\n",
       "      <td>5.93</td>\n",
       "      <td>S Paschim</td>\n",
       "      <td>73 runs</td>\n",
       "      <td>48/1</td>\n",
       "      <td>38/2</td>\n",
       "      <td>10</td>\n",
       "      <td>2</td>\n",
       "    </tr>\n",
       "    <tr>\n",
       "      <th>9</th>\n",
       "      <td>Chitwan Rhinos</td>\n",
       "      <td>Karnali Yaks</td>\n",
       "      <td>Karnali Yaks</td>\n",
       "      <td>field</td>\n",
       "      <td>2024/25</td>\n",
       "      <td>Bipin Sharma</td>\n",
       "      <td>06 December 2024</td>\n",
       "      <td>['Bismillah Jan Shinwari', 'Durga Subedi']</td>\n",
       "      <td>Karnali won by 6 wickets (with 1 ball remaining)</td>\n",
       "      <td>130/7</td>\n",
       "      <td>...</td>\n",
       "      <td>132</td>\n",
       "      <td>4</td>\n",
       "      <td>6.50</td>\n",
       "      <td>6.65</td>\n",
       "      <td>Karnali</td>\n",
       "      <td>6 wickets (with 1 ball remaining)</td>\n",
       "      <td>28/3 , Extra 4</td>\n",
       "      <td>32/0</td>\n",
       "      <td>5</td>\n",
       "      <td>9</td>\n",
       "    </tr>\n",
       "  </tbody>\n",
       "</table>\n",
       "<p>10 rows × 23 columns</p>\n",
       "</div>"
      ],
      "text/plain": [
       "              Team 1             Team 2        Toss_Winner Toss_Decision  \\\n",
       "0   Biratnagar Kings     Janakpur Bolts     Janakpur Bolts         field   \n",
       "1  Kathmandu Gurkhas     Chitwan Rhinos     Chitwan Rhinos         field   \n",
       "2       Karnali Yaks     Janakpur Bolts       Karnali Yaks           bat   \n",
       "3      Sudur Paschim   Biratnagar Kings   Biratnagar Kings         field   \n",
       "4     Chitwan Rhinos   Pokhara Avengers   Pokhara Avengers         field   \n",
       "5       Karnali Yaks  Kathmandu Gurkhas  Kathmandu Gurkhas         field   \n",
       "6      Lumbini Lions   Biratnagar Kings   Biratnagar Kings         field   \n",
       "7   Pokhara Avengers     Janakpur Bolts     Janakpur Bolts         field   \n",
       "8      Sudur Paschim  Kathmandu Gurkhas  Kathmandu Gurkhas         field   \n",
       "9     Chitwan Rhinos       Karnali Yaks       Karnali Yaks         field   \n",
       "\n",
       "    Season   Player Of The Match         Match_Day  \\\n",
       "0  2024/25       Lahiru Milantha  30 November 2024   \n",
       "1  2024/25         Sohail Tanvir  02 December 2024   \n",
       "2  2024/25              Anil Sah  02 December 2024   \n",
       "3  2024/25  Dipendra Singh Airee  03 December 2024   \n",
       "4  2024/25          Rijan Dhakal  03 December 2024   \n",
       "5  2024/25        Sumit Maharjan  04 December 2024   \n",
       "6  2024/25            Lokesh Bam  04 December 2024   \n",
       "7  2024/25         James Neesham  05 December 2024   \n",
       "8  2024/25            Naren Saud  05 December 2024   \n",
       "9  2024/25          Bipin Sharma  06 December 2024   \n",
       "\n",
       "                                        Umpires  \\\n",
       "0               ['Durga Subedi', 'Vinay Kumar']   \n",
       "1              ['Buddhi Pradhan', 'Himal Giri']   \n",
       "2     ['Bismillah Jan Shinwari', 'Rashid Riaz']   \n",
       "3                ['Durga Subedi', 'Himal Giri']   \n",
       "4     ['Bismillah Jan Shinwari', 'Vinay Kumar']   \n",
       "5                 ['Himal Giri', 'Rashid Riaz']   \n",
       "6  ['Bismillah Jan Shinwari', 'Buddhi Pradhan']   \n",
       "7               ['Durga Subedi', 'Vinay Kumar']   \n",
       "8                 ['Himal Giri', 'Rashid Riaz']   \n",
       "9    ['Bismillah Jan Shinwari', 'Durga Subedi']   \n",
       "\n",
       "                                          Match Info First_Team_Performance  \\\n",
       "0  Janakpur won by 8 wickets (with 27 balls remai...                    127   \n",
       "1  Chitwan won by 5 wickets (with 17 balls remain...                  111/9   \n",
       "2  Janakpur won by 8 wickets (with 29 balls remai...                  141/7   \n",
       "3                           S Paschim won by 90 runs                  182/7   \n",
       "4                             Chitwan won by 87 runs                  161/7   \n",
       "5  Kathmandu won by 3 wickets (with 3 balls remai...                  149/5   \n",
       "6  Biratnagar won by 2 wickets (with 1 ball remai...                  191/7   \n",
       "7  Janakpur won by 7 wickets (with 17 balls remai...                  138/7   \n",
       "8                           S Paschim won by 73 runs                  167/6   \n",
       "9   Karnali won by 6 wickets (with 1 ball remaining)                  130/7   \n",
       "\n",
       "   ...  Run_Scored_By_2nd_Team  Wic_Lost_by_2nd_Team Run_Rate_Team_1  \\\n",
       "0  ...                     131                     2            6.68   \n",
       "1  ...                     114                     5            5.55   \n",
       "2  ...                     142                     2            7.05   \n",
       "3  ...                      92                    10            9.10   \n",
       "4  ...                      74                    10            8.05   \n",
       "5  ...                     153                     7            7.45   \n",
       "6  ...                     193                     8            9.55   \n",
       "7  ...                     143                     3            6.90   \n",
       "8  ...                      94                    10            8.35   \n",
       "9  ...                     132                     4            6.50   \n",
       "\n",
       "   Run_Rate_Team_2  Winner_Team                        won_by_margin  \\\n",
       "0             8.45     Janakpur  8 wickets (with 27 balls remaining)   \n",
       "1             6.64      Chitwan  5 wickets (with 17 balls remaining)   \n",
       "2             9.36     Janakpur  8 wickets (with 29 balls remaining)   \n",
       "3             5.69    S Paschim                              90 runs   \n",
       "4             5.55      Chitwan                              87 runs   \n",
       "5             7.84    Kathmandu   3 wickets (with 3 balls remaining)   \n",
       "6             9.73   Biratnagar    2 wickets (with 1 ball remaining)   \n",
       "7             8.33     Janakpur  7 wickets (with 17 balls remaining)   \n",
       "8             5.93    S Paschim                              73 runs   \n",
       "9             6.65      Karnali    6 wickets (with 1 ball remaining)   \n",
       "\n",
       "        Powerplay1 Powerplay2 Extras_of_inning_1  Extras_of_inning_2  \n",
       "0             38/1       52/2                 15                  22  \n",
       "1             39/4       46/2                  8                  12  \n",
       "2             31/2       56/0                  8                   4  \n",
       "3           43/3         21/3                  7                   7  \n",
       "4             50/3       16/6                  5                  11  \n",
       "5             39/2       37/2                 13                   7  \n",
       "6             56/1       54/1                 29                  20  \n",
       "7             35/2       62/1                  8                  11  \n",
       "8             48/1       38/2                 10                   2  \n",
       "9   28/3 , Extra 4       32/0                  5                   9  \n",
       "\n",
       "[10 rows x 23 columns]"
      ]
     },
     "execution_count": 2,
     "metadata": {},
     "output_type": "execute_result"
    }
   ],
   "source": [
    "df = pd.read_csv('NPL_DATASET.csv')\n",
    "df.head(10)"
   ]
  },
  {
   "cell_type": "code",
   "execution_count": 3,
   "metadata": {},
   "outputs": [
    {
     "data": {
      "text/plain": [
       "(32, 23)"
      ]
     },
     "execution_count": 3,
     "metadata": {},
     "output_type": "execute_result"
    }
   ],
   "source": [
    "df.shape"
   ]
  },
  {
   "cell_type": "code",
   "execution_count": 4,
   "metadata": {},
   "outputs": [
    {
     "data": {
      "text/plain": [
       "Team 1                     0\n",
       "Team 2                     0\n",
       "Toss_Winner                0\n",
       "Toss_Decision              0\n",
       "Season                     0\n",
       "Player Of The Match        0\n",
       "Match_Day                  0\n",
       "Umpires                    0\n",
       "Match Info                 0\n",
       "First_Team_Performance     0\n",
       "Target_Runs                0\n",
       "Wic_lost_by_1st_team       0\n",
       "Second_Team_Performance    0\n",
       "Run_Scored_By_2nd_Team     0\n",
       "Wic_Lost_by_2nd_Team       0\n",
       "Run_Rate_Team_1            0\n",
       "Run_Rate_Team_2            0\n",
       "Winner_Team                0\n",
       "won_by_margin              0\n",
       "Powerplay1                 0\n",
       "Powerplay2                 0\n",
       "Extras_of_inning_1         0\n",
       " Extras_of_inning_2        0\n",
       "dtype: int64"
      ]
     },
     "execution_count": 4,
     "metadata": {},
     "output_type": "execute_result"
    }
   ],
   "source": [
    "df.isnull().sum()"
   ]
  },
  {
   "cell_type": "code",
   "execution_count": 5,
   "metadata": {},
   "outputs": [
    {
     "data": {
      "text/plain": [
       "Team 1\n",
       "Biratnagar Kings      568\n",
       "Chitwan Rhinos        639\n",
       "Janakpur Bolts        277\n",
       "Karnali Yaks          952\n",
       "Kathmandu Gurkhas     318\n",
       "Lumbini Lions         531\n",
       "Pokhara Avengers      382\n",
       "Sudur Paschim        1002\n",
       "Name: Target_Runs, dtype: int64"
      ]
     },
     "execution_count": 5,
     "metadata": {},
     "output_type": "execute_result"
    }
   ],
   "source": [
    "df.groupby(by = 'Team 1')['Target_Runs'].sum()"
   ]
  },
  {
   "cell_type": "code",
   "execution_count": 6,
   "metadata": {},
   "outputs": [
    {
     "data": {
      "text/plain": [
       "192"
      ]
     },
     "execution_count": 6,
     "metadata": {},
     "output_type": "execute_result"
    }
   ],
   "source": [
    "df['Target_Runs'].max()"
   ]
  },
  {
   "cell_type": "code",
   "execution_count": 7,
   "metadata": {},
   "outputs": [],
   "source": [
    "df['Powerplay1_runs'] = df['Powerplay1'].apply(lambda x: x.split('/')[0])\n",
    "df['Powerplay2_runs'] = df['Powerplay2'].apply(lambda x: x.split('/')[0])"
   ]
  },
  {
   "cell_type": "code",
   "execution_count": 8,
   "metadata": {},
   "outputs": [],
   "source": [
    "def clear_powerplayinfo(text):\n",
    "    if '\"' in text:\n",
    "        return text.replace('\"','')\n",
    "    else:\n",
    "        return text"
   ]
  },
  {
   "cell_type": "code",
   "execution_count": 9,
   "metadata": {},
   "outputs": [],
   "source": [
    "df['Powerplay1_runs'] = df['Powerplay1_runs'].apply(clear_powerplayinfo)"
   ]
  },
  {
   "cell_type": "code",
   "execution_count": 10,
   "metadata": {},
   "outputs": [],
   "source": [
    "df['Powerplay1_runs'] = df['Powerplay1_runs'].astype(int)"
   ]
  },
  {
   "cell_type": "code",
   "execution_count": 11,
   "metadata": {},
   "outputs": [
    {
     "name": "stdout",
     "output_type": "stream",
     "text": [
      "<class 'pandas.core.frame.DataFrame'>\n",
      "RangeIndex: 32 entries, 0 to 31\n",
      "Data columns (total 25 columns):\n",
      " #   Column                   Non-Null Count  Dtype  \n",
      "---  ------                   --------------  -----  \n",
      " 0   Team 1                   32 non-null     object \n",
      " 1   Team 2                   32 non-null     object \n",
      " 2   Toss_Winner              32 non-null     object \n",
      " 3   Toss_Decision            32 non-null     object \n",
      " 4   Season                   32 non-null     object \n",
      " 5   Player Of The Match      32 non-null     object \n",
      " 6   Match_Day                32 non-null     object \n",
      " 7   Umpires                  32 non-null     object \n",
      " 8   Match Info               32 non-null     object \n",
      " 9   First_Team_Performance   32 non-null     object \n",
      " 10  Target_Runs              32 non-null     int64  \n",
      " 11  Wic_lost_by_1st_team     32 non-null     int64  \n",
      " 12  Second_Team_Performance  32 non-null     object \n",
      " 13  Run_Scored_By_2nd_Team   32 non-null     int64  \n",
      " 14  Wic_Lost_by_2nd_Team     32 non-null     int64  \n",
      " 15  Run_Rate_Team_1          32 non-null     float64\n",
      " 16  Run_Rate_Team_2          32 non-null     float64\n",
      " 17  Winner_Team              32 non-null     object \n",
      " 18  won_by_margin            32 non-null     object \n",
      " 19  Powerplay1               32 non-null     object \n",
      " 20  Powerplay2               32 non-null     object \n",
      " 21  Extras_of_inning_1       32 non-null     int64  \n",
      " 22   Extras_of_inning_2      32 non-null     int64  \n",
      " 23  Powerplay1_runs          32 non-null     int32  \n",
      " 24  Powerplay2_runs          32 non-null     object \n",
      "dtypes: float64(2), int32(1), int64(6), object(16)\n",
      "memory usage: 6.3+ KB\n"
     ]
    }
   ],
   "source": [
    "df.info()"
   ]
  },
  {
   "cell_type": "code",
   "execution_count": 12,
   "metadata": {},
   "outputs": [],
   "source": [
    "import seaborn as sns"
   ]
  },
  {
   "cell_type": "code",
   "execution_count": 13,
   "metadata": {},
   "outputs": [],
   "source": [
    "df['Target'] = df['Target_Runs'].astype(int)\n",
    "df.drop(columns=['Target_Runs','Umpires'],axis=1,inplace=True)"
   ]
  },
  {
   "cell_type": "code",
   "execution_count": 14,
   "metadata": {},
   "outputs": [
    {
     "name": "stdout",
     "output_type": "stream",
     "text": [
      "<class 'pandas.core.frame.DataFrame'>\n",
      "RangeIndex: 32 entries, 0 to 31\n",
      "Data columns (total 24 columns):\n",
      " #   Column                   Non-Null Count  Dtype  \n",
      "---  ------                   --------------  -----  \n",
      " 0   Team 1                   32 non-null     object \n",
      " 1   Team 2                   32 non-null     object \n",
      " 2   Toss_Winner              32 non-null     object \n",
      " 3   Toss_Decision            32 non-null     object \n",
      " 4   Season                   32 non-null     object \n",
      " 5   Player Of The Match      32 non-null     object \n",
      " 6   Match_Day                32 non-null     object \n",
      " 7   Match Info               32 non-null     object \n",
      " 8   First_Team_Performance   32 non-null     object \n",
      " 9   Wic_lost_by_1st_team     32 non-null     int64  \n",
      " 10  Second_Team_Performance  32 non-null     object \n",
      " 11  Run_Scored_By_2nd_Team   32 non-null     int64  \n",
      " 12  Wic_Lost_by_2nd_Team     32 non-null     int64  \n",
      " 13  Run_Rate_Team_1          32 non-null     float64\n",
      " 14  Run_Rate_Team_2          32 non-null     float64\n",
      " 15  Winner_Team              32 non-null     object \n",
      " 16  won_by_margin            32 non-null     object \n",
      " 17  Powerplay1               32 non-null     object \n",
      " 18  Powerplay2               32 non-null     object \n",
      " 19  Extras_of_inning_1       32 non-null     int64  \n",
      " 20   Extras_of_inning_2      32 non-null     int64  \n",
      " 21  Powerplay1_runs          32 non-null     int32  \n",
      " 22  Powerplay2_runs          32 non-null     object \n",
      " 23  Target                   32 non-null     int32  \n",
      "dtypes: float64(2), int32(2), int64(5), object(15)\n",
      "memory usage: 5.9+ KB\n"
     ]
    }
   ],
   "source": [
    "df.info()"
   ]
  },
  {
   "cell_type": "code",
   "execution_count": 15,
   "metadata": {},
   "outputs": [
    {
     "data": {
      "text/plain": [
       "<Axes: xlabel='Target', ylabel='Powerplay1_runs'>"
      ]
     },
     "execution_count": 15,
     "metadata": {},
     "output_type": "execute_result"
    },
    {
     "data": {
      "image/png": "[encoded data removed]",
      "text/plain": [
       "<Figure size 640x480 with 1 Axes>"
      ]
     },
     "metadata": {},
     "output_type": "display_data"
    }
   ],
   "source": [
    "sns.scatterplot(x='Target',y='Powerplay1_runs',data=df)"
   ]
  },
  {
   "cell_type": "code",
   "execution_count": 16,
   "metadata": {},
   "outputs": [
    {
     "data": {
      "text/html": [
       "<div>\n",
       "<style scoped>\n",
       "    .dataframe tbody tr th:only-of-type {\n",
       "        vertical-align: middle;\n",
       "    }\n",
       "\n",
       "    .dataframe tbody tr th {\n",
       "        vertical-align: top;\n",
       "    }\n",
       "\n",
       "    .dataframe thead th {\n",
       "        text-align: right;\n",
       "    }\n",
       "</style>\n",
       "<table border=\"1\" class=\"dataframe\">\n",
       "  <thead>\n",
       "    <tr style=\"text-align: right;\">\n",
       "      <th></th>\n",
       "      <th>Wic_lost_by_1st_team</th>\n",
       "      <th>Run_Scored_By_2nd_Team</th>\n",
       "      <th>Wic_Lost_by_2nd_Team</th>\n",
       "      <th>Run_Rate_Team_1</th>\n",
       "      <th>Run_Rate_Team_2</th>\n",
       "      <th>Extras_of_inning_1</th>\n",
       "      <th>Extras_of_inning_2</th>\n",
       "      <th>Powerplay1_runs</th>\n",
       "      <th>Target</th>\n",
       "    </tr>\n",
       "  </thead>\n",
       "  <tbody>\n",
       "    <tr>\n",
       "      <th>count</th>\n",
       "      <td>32.000000</td>\n",
       "      <td>32.000000</td>\n",
       "      <td>32.000000</td>\n",
       "      <td>32.000000</td>\n",
       "      <td>32.000000</td>\n",
       "      <td>32.000000</td>\n",
       "      <td>32.000000</td>\n",
       "      <td>32.000000</td>\n",
       "      <td>32.000000</td>\n",
       "    </tr>\n",
       "    <tr>\n",
       "      <th>mean</th>\n",
       "      <td>7.593750</td>\n",
       "      <td>128.500000</td>\n",
       "      <td>6.625000</td>\n",
       "      <td>7.300000</td>\n",
       "      <td>7.210938</td>\n",
       "      <td>10.062500</td>\n",
       "      <td>9.031250</td>\n",
       "      <td>40.531250</td>\n",
       "      <td>145.906250</td>\n",
       "    </tr>\n",
       "    <tr>\n",
       "      <th>std</th>\n",
       "      <td>1.881307</td>\n",
       "      <td>30.161929</td>\n",
       "      <td>3.013411</td>\n",
       "      <td>1.337347</td>\n",
       "      <td>1.490688</td>\n",
       "      <td>5.476857</td>\n",
       "      <td>5.251632</td>\n",
       "      <td>8.389642</td>\n",
       "      <td>27.987739</td>\n",
       "    </tr>\n",
       "    <tr>\n",
       "      <th>min</th>\n",
       "      <td>4.000000</td>\n",
       "      <td>51.000000</td>\n",
       "      <td>0.000000</td>\n",
       "      <td>5.050000</td>\n",
       "      <td>4.190000</td>\n",
       "      <td>3.000000</td>\n",
       "      <td>0.000000</td>\n",
       "      <td>23.000000</td>\n",
       "      <td>102.000000</td>\n",
       "    </tr>\n",
       "    <tr>\n",
       "      <th>25%</th>\n",
       "      <td>6.000000</td>\n",
       "      <td>112.000000</td>\n",
       "      <td>4.000000</td>\n",
       "      <td>6.360000</td>\n",
       "      <td>6.450000</td>\n",
       "      <td>7.000000</td>\n",
       "      <td>6.000000</td>\n",
       "      <td>34.750000</td>\n",
       "      <td>127.000000</td>\n",
       "    </tr>\n",
       "    <tr>\n",
       "      <th>50%</th>\n",
       "      <td>7.000000</td>\n",
       "      <td>131.500000</td>\n",
       "      <td>7.500000</td>\n",
       "      <td>6.950000</td>\n",
       "      <td>6.895000</td>\n",
       "      <td>8.000000</td>\n",
       "      <td>7.500000</td>\n",
       "      <td>40.500000</td>\n",
       "      <td>140.000000</td>\n",
       "    </tr>\n",
       "    <tr>\n",
       "      <th>75%</th>\n",
       "      <td>9.000000</td>\n",
       "      <td>142.250000</td>\n",
       "      <td>9.250000</td>\n",
       "      <td>8.387500</td>\n",
       "      <td>7.935000</td>\n",
       "      <td>12.250000</td>\n",
       "      <td>11.250000</td>\n",
       "      <td>47.250000</td>\n",
       "      <td>168.750000</td>\n",
       "    </tr>\n",
       "    <tr>\n",
       "      <th>max</th>\n",
       "      <td>10.000000</td>\n",
       "      <td>193.000000</td>\n",
       "      <td>10.000000</td>\n",
       "      <td>9.550000</td>\n",
       "      <td>10.450000</td>\n",
       "      <td>29.000000</td>\n",
       "      <td>22.000000</td>\n",
       "      <td>56.000000</td>\n",
       "      <td>192.000000</td>\n",
       "    </tr>\n",
       "  </tbody>\n",
       "</table>\n",
       "</div>"
      ],
      "text/plain": [
       "       Wic_lost_by_1st_team  Run_Scored_By_2nd_Team  Wic_Lost_by_2nd_Team  \\\n",
       "count             32.000000               32.000000             32.000000   \n",
       "mean               7.593750              128.500000              6.625000   \n",
       "std                1.881307               30.161929              3.013411   \n",
       "min                4.000000               51.000000              0.000000   \n",
       "25%                6.000000              112.000000              4.000000   \n",
       "50%                7.000000              131.500000              7.500000   \n",
       "75%                9.000000              142.250000              9.250000   \n",
       "max               10.000000              193.000000             10.000000   \n",
       "\n",
       "       Run_Rate_Team_1  Run_Rate_Team_2  Extras_of_inning_1  \\\n",
       "count        32.000000        32.000000           32.000000   \n",
       "mean          7.300000         7.210938           10.062500   \n",
       "std           1.337347         1.490688            5.476857   \n",
       "min           5.050000         4.190000            3.000000   \n",
       "25%           6.360000         6.450000            7.000000   \n",
       "50%           6.950000         6.895000            8.000000   \n",
       "75%           8.387500         7.935000           12.250000   \n",
       "max           9.550000        10.450000           29.000000   \n",
       "\n",
       "        Extras_of_inning_2  Powerplay1_runs      Target  \n",
       "count            32.000000        32.000000   32.000000  \n",
       "mean              9.031250        40.531250  145.906250  \n",
       "std               5.251632         8.389642   27.987739  \n",
       "min               0.000000        23.000000  102.000000  \n",
       "25%               6.000000        34.750000  127.000000  \n",
       "50%               7.500000        40.500000  140.000000  \n",
       "75%              11.250000        47.250000  168.750000  \n",
       "max              22.000000        56.000000  192.000000  "
      ]
     },
     "execution_count": 16,
     "metadata": {},
     "output_type": "execute_result"
    }
   ],
   "source": [
    "df.describe()"
   ]
  },
  {
   "cell_type": "code",
   "execution_count": 17,
   "metadata": {},
   "outputs": [
    {
     "data": {
      "text/html": [
       "<div>\n",
       "<style scoped>\n",
       "    .dataframe tbody tr th:only-of-type {\n",
       "        vertical-align: middle;\n",
       "    }\n",
       "\n",
       "    .dataframe tbody tr th {\n",
       "        vertical-align: top;\n",
       "    }\n",
       "\n",
       "    .dataframe thead th {\n",
       "        text-align: right;\n",
       "    }\n",
       "</style>\n",
       "<table border=\"1\" class=\"dataframe\">\n",
       "  <thead>\n",
       "    <tr style=\"text-align: right;\">\n",
       "      <th></th>\n",
       "      <th>Team 1</th>\n",
       "      <th>Team 2</th>\n",
       "      <th>Toss_Winner</th>\n",
       "      <th>Toss_Decision</th>\n",
       "      <th>Season</th>\n",
       "      <th>Player Of The Match</th>\n",
       "      <th>Match_Day</th>\n",
       "      <th>Match Info</th>\n",
       "      <th>First_Team_Performance</th>\n",
       "      <th>Wic_lost_by_1st_team</th>\n",
       "      <th>...</th>\n",
       "      <th>Run_Rate_Team_2</th>\n",
       "      <th>Winner_Team</th>\n",
       "      <th>won_by_margin</th>\n",
       "      <th>Powerplay1</th>\n",
       "      <th>Powerplay2</th>\n",
       "      <th>Extras_of_inning_1</th>\n",
       "      <th>Extras_of_inning_2</th>\n",
       "      <th>Powerplay1_runs</th>\n",
       "      <th>Powerplay2_runs</th>\n",
       "      <th>Target</th>\n",
       "    </tr>\n",
       "  </thead>\n",
       "  <tbody>\n",
       "    <tr>\n",
       "      <th>6</th>\n",
       "      <td>Lumbini Lions</td>\n",
       "      <td>Biratnagar Kings</td>\n",
       "      <td>Biratnagar Kings</td>\n",
       "      <td>field</td>\n",
       "      <td>2024/25</td>\n",
       "      <td>Lokesh Bam</td>\n",
       "      <td>04 December 2024</td>\n",
       "      <td>Biratnagar won by 2 wickets (with 1 ball remai...</td>\n",
       "      <td>191/7</td>\n",
       "      <td>7</td>\n",
       "      <td>...</td>\n",
       "      <td>9.73</td>\n",
       "      <td>Biratnagar</td>\n",
       "      <td>2 wickets (with 1 ball remaining)</td>\n",
       "      <td>56/1</td>\n",
       "      <td>54/1</td>\n",
       "      <td>29</td>\n",
       "      <td>20</td>\n",
       "      <td>56</td>\n",
       "      <td>54</td>\n",
       "      <td>192</td>\n",
       "    </tr>\n",
       "  </tbody>\n",
       "</table>\n",
       "<p>1 rows × 24 columns</p>\n",
       "</div>"
      ],
      "text/plain": [
       "          Team 1            Team 2       Toss_Winner Toss_Decision   Season  \\\n",
       "6  Lumbini Lions  Biratnagar Kings  Biratnagar Kings         field  2024/25   \n",
       "\n",
       "  Player Of The Match         Match_Day  \\\n",
       "6          Lokesh Bam  04 December 2024   \n",
       "\n",
       "                                          Match Info First_Team_Performance  \\\n",
       "6  Biratnagar won by 2 wickets (with 1 ball remai...                  191/7   \n",
       "\n",
       "   Wic_lost_by_1st_team  ... Run_Rate_Team_2  Winner_Team  \\\n",
       "6                     7  ...            9.73   Biratnagar   \n",
       "\n",
       "                       won_by_margin  Powerplay1  Powerplay2  \\\n",
       "6  2 wickets (with 1 ball remaining)        56/1        54/1   \n",
       "\n",
       "  Extras_of_inning_1  Extras_of_inning_2 Powerplay1_runs Powerplay2_runs  \\\n",
       "6                 29                  20              56              54   \n",
       "\n",
       "   Target  \n",
       "6     192  \n",
       "\n",
       "[1 rows x 24 columns]"
      ]
     },
     "execution_count": 17,
     "metadata": {},
     "output_type": "execute_result"
    }
   ],
   "source": [
    "df_max_target = df[df['Target'] == df['Target'].max()]\n",
    "df_max_target"
   ]
  },
  {
   "cell_type": "code",
   "execution_count": 18,
   "metadata": {},
   "outputs": [
    {
     "name": "stdout",
     "output_type": "stream",
     "text": [
      "The team to give highest target throughout the NPL Season 1 was Lumbini Lions.\n"
     ]
    }
   ],
   "source": [
    "print(f'The team to give highest target throughout the NPL Season 1 was {df_max_target['Team 1'].iloc[0]}.')"
   ]
  },
  {
   "cell_type": "code",
   "execution_count": 19,
   "metadata": {},
   "outputs": [],
   "source": [
    "grouped1 = df.groupby('Team 1')['Run_Rate_Team_1'].mean()"
   ]
  },
  {
   "cell_type": "code",
   "execution_count": 20,
   "metadata": {},
   "outputs": [
    {
     "data": {
      "text/plain": [
       "Team 1\n",
       "Biratnagar Kings     7.142500\n",
       "Chitwan Rhinos       7.937500\n",
       "Janakpur Bolts       6.875000\n",
       "Karnali Yaks         6.750000\n",
       "Kathmandu Gurkhas    5.346667\n",
       "Lumbini Lions        8.800000\n",
       "Pokhara Avengers     6.680000\n",
       "Sudur Paschim        8.300000\n",
       "Name: Run_Rate_Team_1, dtype: float64"
      ]
     },
     "execution_count": 20,
     "metadata": {},
     "output_type": "execute_result"
    }
   ],
   "source": [
    "grouped1"
   ]
  },
  {
   "cell_type": "code",
   "execution_count": 21,
   "metadata": {},
   "outputs": [],
   "source": [
    "grouped2 = df.groupby('Team 2')['Run_Rate_Team_2'].mean()"
   ]
  },
  {
   "cell_type": "code",
   "execution_count": 22,
   "metadata": {},
   "outputs": [
    {
     "data": {
      "text/plain": [
       "Team 2\n",
       "Biratnagar Kings     7.24000\n",
       "Chitwan Rhinos       6.88500\n",
       "Janakpur Bolts       7.61625\n",
       "Karnali Yaks         6.85500\n",
       "Kathmandu Gurkhas    7.59750\n",
       "Lumbini Lions        6.09750\n",
       "Pokhara Avengers     7.61750\n",
       "Sudur Paschim        7.20000\n",
       "Name: Run_Rate_Team_2, dtype: float64"
      ]
     },
     "execution_count": 22,
     "metadata": {},
     "output_type": "execute_result"
    }
   ],
   "source": [
    "grouped2"
   ]
  },
  {
   "cell_type": "code",
   "execution_count": 23,
   "metadata": {},
   "outputs": [
    {
     "name": "stdout",
     "output_type": "stream",
     "text": [
      "                Team  Average_Run_Rate\n",
      "0   Biratnagar Kings          7.191250\n",
      "1     Chitwan Rhinos          7.411250\n",
      "2     Janakpur Bolts          7.245625\n",
      "3       Karnali Yaks          6.802500\n",
      "4  Kathmandu Gurkhas          6.472083\n",
      "5      Lumbini Lions          7.448750\n",
      "6   Pokhara Avengers          7.148750\n",
      "7      Sudur Paschim          7.750000\n"
     ]
    }
   ],
   "source": [
    "group1_df = grouped1.reset_index()\n",
    "\n",
    "group2_df = grouped2.reset_index()\n",
    "\n",
    "merged_df = group1_df.merge(group2_df, left_on='Team 1', right_on='Team 2', how='inner')\n",
    "\n",
    "merged_df['Average_Run_Rate'] = (merged_df['Run_Rate_Team_1'] + merged_df['Run_Rate_Team_2']) / 2\n",
    "\n",
    "final_group = merged_df[['Team 1', 'Average_Run_Rate']].rename(columns={'Team 1': 'Team'})\n",
    "\n",
    "print(final_group)"
   ]
  },
  {
   "cell_type": "code",
   "execution_count": 24,
   "metadata": {},
   "outputs": [],
   "source": [
    "import matplotlib.pyplot as plt"
   ]
  },
  {
   "cell_type": "code",
   "execution_count": 25,
   "metadata": {},
   "outputs": [
    {
     "data": {
      "image/png": "[encoded data removed]",
      "text/plain": [
       "<Figure size 640x480 with 1 Axes>"
      ]
     },
     "metadata": {},
     "output_type": "display_data"
    }
   ],
   "source": [
    "plt.bar(final_group['Team'],final_group['Average_Run_Rate'],color='skyblue')\n",
    "plt.xlabel('Team Names')\n",
    "plt.ylabel('Average Run Rates')\n",
    "plt.title('Average Run Rate of Team in 2024 NPL Season')\n",
    "plt.xticks(rotation=90)\n",
    "plt.show()"
   ]
  },
  {
   "cell_type": "code",
   "execution_count": 26,
   "metadata": {},
   "outputs": [
    {
     "data": {
      "text/html": [
       "<div>\n",
       "<style scoped>\n",
       "    .dataframe tbody tr th:only-of-type {\n",
       "        vertical-align: middle;\n",
       "    }\n",
       "\n",
       "    .dataframe tbody tr th {\n",
       "        vertical-align: top;\n",
       "    }\n",
       "\n",
       "    .dataframe thead th {\n",
       "        text-align: right;\n",
       "    }\n",
       "</style>\n",
       "<table border=\"1\" class=\"dataframe\">\n",
       "  <thead>\n",
       "    <tr style=\"text-align: right;\">\n",
       "      <th></th>\n",
       "      <th>Team 1</th>\n",
       "      <th>Team 2</th>\n",
       "      <th>Toss_Winner</th>\n",
       "      <th>Toss_Decision</th>\n",
       "      <th>Season</th>\n",
       "      <th>Player Of The Match</th>\n",
       "      <th>Match_Day</th>\n",
       "      <th>Match Info</th>\n",
       "      <th>First_Team_Performance</th>\n",
       "      <th>Wic_lost_by_1st_team</th>\n",
       "      <th>...</th>\n",
       "      <th>Run_Rate_Team_2</th>\n",
       "      <th>Winner_Team</th>\n",
       "      <th>won_by_margin</th>\n",
       "      <th>Powerplay1</th>\n",
       "      <th>Powerplay2</th>\n",
       "      <th>Extras_of_inning_1</th>\n",
       "      <th>Extras_of_inning_2</th>\n",
       "      <th>Powerplay1_runs</th>\n",
       "      <th>Powerplay2_runs</th>\n",
       "      <th>Target</th>\n",
       "    </tr>\n",
       "  </thead>\n",
       "  <tbody>\n",
       "    <tr>\n",
       "      <th>0</th>\n",
       "      <td>Biratnagar Kings</td>\n",
       "      <td>Janakpur Bolts</td>\n",
       "      <td>Janakpur Bolts</td>\n",
       "      <td>field</td>\n",
       "      <td>2024/25</td>\n",
       "      <td>Lahiru Milantha</td>\n",
       "      <td>30 November 2024</td>\n",
       "      <td>Janakpur won by 8 wickets (with 27 balls remai...</td>\n",
       "      <td>127</td>\n",
       "      <td>10</td>\n",
       "      <td>...</td>\n",
       "      <td>8.45</td>\n",
       "      <td>Janakpur</td>\n",
       "      <td>8 wickets (with 27 balls remaining)</td>\n",
       "      <td>38/1</td>\n",
       "      <td>52/2</td>\n",
       "      <td>15</td>\n",
       "      <td>22</td>\n",
       "      <td>38</td>\n",
       "      <td>52</td>\n",
       "      <td>128</td>\n",
       "    </tr>\n",
       "    <tr>\n",
       "      <th>1</th>\n",
       "      <td>Kathmandu Gurkhas</td>\n",
       "      <td>Chitwan Rhinos</td>\n",
       "      <td>Chitwan Rhinos</td>\n",
       "      <td>field</td>\n",
       "      <td>2024/25</td>\n",
       "      <td>Sohail Tanvir</td>\n",
       "      <td>02 December 2024</td>\n",
       "      <td>Chitwan won by 5 wickets (with 17 balls remain...</td>\n",
       "      <td>111/9</td>\n",
       "      <td>9</td>\n",
       "      <td>...</td>\n",
       "      <td>6.64</td>\n",
       "      <td>Chitwan</td>\n",
       "      <td>5 wickets (with 17 balls remaining)</td>\n",
       "      <td>39/4</td>\n",
       "      <td>46/2</td>\n",
       "      <td>8</td>\n",
       "      <td>12</td>\n",
       "      <td>39</td>\n",
       "      <td>46</td>\n",
       "      <td>112</td>\n",
       "    </tr>\n",
       "    <tr>\n",
       "      <th>2</th>\n",
       "      <td>Karnali Yaks</td>\n",
       "      <td>Janakpur Bolts</td>\n",
       "      <td>Karnali Yaks</td>\n",
       "      <td>bat</td>\n",
       "      <td>2024/25</td>\n",
       "      <td>Anil Sah</td>\n",
       "      <td>02 December 2024</td>\n",
       "      <td>Janakpur won by 8 wickets (with 29 balls remai...</td>\n",
       "      <td>141/7</td>\n",
       "      <td>7</td>\n",
       "      <td>...</td>\n",
       "      <td>9.36</td>\n",
       "      <td>Janakpur</td>\n",
       "      <td>8 wickets (with 29 balls remaining)</td>\n",
       "      <td>31/2</td>\n",
       "      <td>56/0</td>\n",
       "      <td>8</td>\n",
       "      <td>4</td>\n",
       "      <td>31</td>\n",
       "      <td>56</td>\n",
       "      <td>142</td>\n",
       "    </tr>\n",
       "    <tr>\n",
       "      <th>3</th>\n",
       "      <td>Sudur Paschim</td>\n",
       "      <td>Biratnagar Kings</td>\n",
       "      <td>Biratnagar Kings</td>\n",
       "      <td>field</td>\n",
       "      <td>2024/25</td>\n",
       "      <td>Dipendra Singh Airee</td>\n",
       "      <td>03 December 2024</td>\n",
       "      <td>S Paschim won by 90 runs</td>\n",
       "      <td>182/7</td>\n",
       "      <td>7</td>\n",
       "      <td>...</td>\n",
       "      <td>5.69</td>\n",
       "      <td>S Paschim</td>\n",
       "      <td>90 runs</td>\n",
       "      <td>43/3</td>\n",
       "      <td>21/3</td>\n",
       "      <td>7</td>\n",
       "      <td>7</td>\n",
       "      <td>43</td>\n",
       "      <td>21</td>\n",
       "      <td>183</td>\n",
       "    </tr>\n",
       "    <tr>\n",
       "      <th>4</th>\n",
       "      <td>Chitwan Rhinos</td>\n",
       "      <td>Pokhara Avengers</td>\n",
       "      <td>Pokhara Avengers</td>\n",
       "      <td>field</td>\n",
       "      <td>2024/25</td>\n",
       "      <td>Rijan Dhakal</td>\n",
       "      <td>03 December 2024</td>\n",
       "      <td>Chitwan won by 87 runs</td>\n",
       "      <td>161/7</td>\n",
       "      <td>7</td>\n",
       "      <td>...</td>\n",
       "      <td>5.55</td>\n",
       "      <td>Chitwan</td>\n",
       "      <td>87 runs</td>\n",
       "      <td>50/3</td>\n",
       "      <td>16/6</td>\n",
       "      <td>5</td>\n",
       "      <td>11</td>\n",
       "      <td>50</td>\n",
       "      <td>16</td>\n",
       "      <td>162</td>\n",
       "    </tr>\n",
       "  </tbody>\n",
       "</table>\n",
       "<p>5 rows × 24 columns</p>\n",
       "</div>"
      ],
      "text/plain": [
       "              Team 1            Team 2       Toss_Winner Toss_Decision  \\\n",
       "0   Biratnagar Kings    Janakpur Bolts    Janakpur Bolts         field   \n",
       "1  Kathmandu Gurkhas    Chitwan Rhinos    Chitwan Rhinos         field   \n",
       "2       Karnali Yaks    Janakpur Bolts      Karnali Yaks           bat   \n",
       "3      Sudur Paschim  Biratnagar Kings  Biratnagar Kings         field   \n",
       "4     Chitwan Rhinos  Pokhara Avengers  Pokhara Avengers         field   \n",
       "\n",
       "    Season   Player Of The Match         Match_Day  \\\n",
       "0  2024/25       Lahiru Milantha  30 November 2024   \n",
       "1  2024/25         Sohail Tanvir  02 December 2024   \n",
       "2  2024/25              Anil Sah  02 December 2024   \n",
       "3  2024/25  Dipendra Singh Airee  03 December 2024   \n",
       "4  2024/25          Rijan Dhakal  03 December 2024   \n",
       "\n",
       "                                          Match Info First_Team_Performance  \\\n",
       "0  Janakpur won by 8 wickets (with 27 balls remai...                    127   \n",
       "1  Chitwan won by 5 wickets (with 17 balls remain...                  111/9   \n",
       "2  Janakpur won by 8 wickets (with 29 balls remai...                  141/7   \n",
       "3                           S Paschim won by 90 runs                  182/7   \n",
       "4                             Chitwan won by 87 runs                  161/7   \n",
       "\n",
       "   Wic_lost_by_1st_team  ... Run_Rate_Team_2  Winner_Team  \\\n",
       "0                    10  ...            8.45     Janakpur   \n",
       "1                     9  ...            6.64      Chitwan   \n",
       "2                     7  ...            9.36     Janakpur   \n",
       "3                     7  ...            5.69    S Paschim   \n",
       "4                     7  ...            5.55      Chitwan   \n",
       "\n",
       "                         won_by_margin  Powerplay1  Powerplay2  \\\n",
       "0  8 wickets (with 27 balls remaining)        38/1        52/2   \n",
       "1  5 wickets (with 17 balls remaining)        39/4        46/2   \n",
       "2  8 wickets (with 29 balls remaining)        31/2        56/0   \n",
       "3                              90 runs      43/3          21/3   \n",
       "4                              87 runs        50/3        16/6   \n",
       "\n",
       "  Extras_of_inning_1  Extras_of_inning_2 Powerplay1_runs Powerplay2_runs  \\\n",
       "0                 15                  22              38              52   \n",
       "1                  8                  12              39              46   \n",
       "2                  8                   4              31              56   \n",
       "3                  7                   7              43              21   \n",
       "4                  5                  11              50              16   \n",
       "\n",
       "   Target  \n",
       "0     128  \n",
       "1     112  \n",
       "2     142  \n",
       "3     183  \n",
       "4     162  \n",
       "\n",
       "[5 rows x 24 columns]"
      ]
     },
     "execution_count": 26,
     "metadata": {},
     "output_type": "execute_result"
    }
   ],
   "source": [
    "df.head()"
   ]
  },
  {
   "cell_type": "code",
   "execution_count": 27,
   "metadata": {},
   "outputs": [
    {
     "data": {
      "text/html": [
       "<div>\n",
       "<style scoped>\n",
       "    .dataframe tbody tr th:only-of-type {\n",
       "        vertical-align: middle;\n",
       "    }\n",
       "\n",
       "    .dataframe tbody tr th {\n",
       "        vertical-align: top;\n",
       "    }\n",
       "\n",
       "    .dataframe thead th {\n",
       "        text-align: right;\n",
       "    }\n",
       "</style>\n",
       "<table border=\"1\" class=\"dataframe\">\n",
       "  <thead>\n",
       "    <tr style=\"text-align: right;\">\n",
       "      <th></th>\n",
       "      <th>Team 1</th>\n",
       "      <th>Run_Rate_Team_1</th>\n",
       "    </tr>\n",
       "  </thead>\n",
       "  <tbody>\n",
       "    <tr>\n",
       "      <th>0</th>\n",
       "      <td>Biratnagar Kings</td>\n",
       "      <td>7.142500</td>\n",
       "    </tr>\n",
       "    <tr>\n",
       "      <th>1</th>\n",
       "      <td>Chitwan Rhinos</td>\n",
       "      <td>7.937500</td>\n",
       "    </tr>\n",
       "    <tr>\n",
       "      <th>2</th>\n",
       "      <td>Janakpur Bolts</td>\n",
       "      <td>6.875000</td>\n",
       "    </tr>\n",
       "    <tr>\n",
       "      <th>3</th>\n",
       "      <td>Karnali Yaks</td>\n",
       "      <td>6.750000</td>\n",
       "    </tr>\n",
       "    <tr>\n",
       "      <th>4</th>\n",
       "      <td>Kathmandu Gurkhas</td>\n",
       "      <td>5.346667</td>\n",
       "    </tr>\n",
       "    <tr>\n",
       "      <th>5</th>\n",
       "      <td>Lumbini Lions</td>\n",
       "      <td>8.800000</td>\n",
       "    </tr>\n",
       "    <tr>\n",
       "      <th>6</th>\n",
       "      <td>Pokhara Avengers</td>\n",
       "      <td>6.680000</td>\n",
       "    </tr>\n",
       "    <tr>\n",
       "      <th>7</th>\n",
       "      <td>Sudur Paschim</td>\n",
       "      <td>8.300000</td>\n",
       "    </tr>\n",
       "  </tbody>\n",
       "</table>\n",
       "</div>"
      ],
      "text/plain": [
       "              Team 1  Run_Rate_Team_1\n",
       "0   Biratnagar Kings         7.142500\n",
       "1     Chitwan Rhinos         7.937500\n",
       "2     Janakpur Bolts         6.875000\n",
       "3       Karnali Yaks         6.750000\n",
       "4  Kathmandu Gurkhas         5.346667\n",
       "5      Lumbini Lions         8.800000\n",
       "6   Pokhara Avengers         6.680000\n",
       "7      Sudur Paschim         8.300000"
      ]
     },
     "execution_count": 27,
     "metadata": {},
     "output_type": "execute_result"
    }
   ],
   "source": [
    "group1_df"
   ]
  },
  {
   "cell_type": "code",
   "execution_count": 28,
   "metadata": {},
   "outputs": [
    {
     "data": {
      "image/png": "[encoded data removed]",
      "text/plain": [
       "<Figure size 640x480 with 1 Axes>"
      ]
     },
     "metadata": {},
     "output_type": "display_data"
    }
   ],
   "source": [
    "plt.bar(group1_df['Team 1'],group1_df['Run_Rate_Team_1'])\n",
    "plt.xticks(rotation=90)\n",
    "plt.xlabel('Teams')\n",
    "plt.ylabel('Run Rates')\n",
    "plt.title('Average Run Rate of Teams on Batting First')\n",
    "plt.show()"
   ]
  },
  {
   "cell_type": "code",
   "execution_count": 29,
   "metadata": {},
   "outputs": [
    {
     "data": {
      "image/png": "[encoded data removed]",
      "text/plain": [
       "<Figure size 640x480 with 1 Axes>"
      ]
     },
     "metadata": {},
     "output_type": "display_data"
    }
   ],
   "source": [
    "plt.bar(group2_df['Team 2'],group2_df['Run_Rate_Team_2'])\n",
    "plt.xticks(rotation=90)\n",
    "plt.xlabel('Teams')\n",
    "plt.ylabel('Run Rates')\n",
    "plt.title('Average Run Rate of Teams on Batting Second')\n",
    "plt.show()"
   ]
  },
  {
   "cell_type": "code",
   "execution_count": 30,
   "metadata": {},
   "outputs": [],
   "source": [
    "highest_motm = df['Player Of The Match'].value_counts().idxmax()\n",
    "highest_motm_num = df['Player Of The Match'].value_counts().max()"
   ]
  },
  {
   "cell_type": "code",
   "execution_count": 31,
   "metadata": {},
   "outputs": [
    {
     "name": "stdout",
     "output_type": "stream",
     "text": [
      "The player with the most Man of the match award is William Bosisto with 3 awards.\n"
     ]
    }
   ],
   "source": [
    "print(f'The player with the most Man of the match award is {highest_motm} with {highest_motm_num} awards.')"
   ]
  },
  {
   "cell_type": "code",
   "execution_count": 32,
   "metadata": {},
   "outputs": [
    {
     "data": {
      "text/html": [
       "<div>\n",
       "<style scoped>\n",
       "    .dataframe tbody tr th:only-of-type {\n",
       "        vertical-align: middle;\n",
       "    }\n",
       "\n",
       "    .dataframe tbody tr th {\n",
       "        vertical-align: top;\n",
       "    }\n",
       "\n",
       "    .dataframe thead th {\n",
       "        text-align: right;\n",
       "    }\n",
       "</style>\n",
       "<table border=\"1\" class=\"dataframe\">\n",
       "  <thead>\n",
       "    <tr style=\"text-align: right;\">\n",
       "      <th></th>\n",
       "      <th>Team 1</th>\n",
       "      <th>Team 2</th>\n",
       "      <th>Toss_Winner</th>\n",
       "      <th>Toss_Decision</th>\n",
       "      <th>Season</th>\n",
       "      <th>Player Of The Match</th>\n",
       "      <th>Match_Day</th>\n",
       "      <th>Match Info</th>\n",
       "      <th>First_Team_Performance</th>\n",
       "      <th>Wic_lost_by_1st_team</th>\n",
       "      <th>...</th>\n",
       "      <th>Run_Rate_Team_2</th>\n",
       "      <th>Winner_Team</th>\n",
       "      <th>won_by_margin</th>\n",
       "      <th>Powerplay1</th>\n",
       "      <th>Powerplay2</th>\n",
       "      <th>Extras_of_inning_1</th>\n",
       "      <th>Extras_of_inning_2</th>\n",
       "      <th>Powerplay1_runs</th>\n",
       "      <th>Powerplay2_runs</th>\n",
       "      <th>Target</th>\n",
       "    </tr>\n",
       "  </thead>\n",
       "  <tbody>\n",
       "    <tr>\n",
       "      <th>0</th>\n",
       "      <td>Biratnagar Kings</td>\n",
       "      <td>Janakpur Bolts</td>\n",
       "      <td>Janakpur Bolts</td>\n",
       "      <td>field</td>\n",
       "      <td>2024/25</td>\n",
       "      <td>Lahiru Milantha</td>\n",
       "      <td>30 November 2024</td>\n",
       "      <td>Janakpur won by 8 wickets (with 27 balls remai...</td>\n",
       "      <td>127</td>\n",
       "      <td>10</td>\n",
       "      <td>...</td>\n",
       "      <td>8.45</td>\n",
       "      <td>Janakpur</td>\n",
       "      <td>8 wickets (with 27 balls remaining)</td>\n",
       "      <td>38/1</td>\n",
       "      <td>52/2</td>\n",
       "      <td>15</td>\n",
       "      <td>22</td>\n",
       "      <td>38</td>\n",
       "      <td>52</td>\n",
       "      <td>128</td>\n",
       "    </tr>\n",
       "    <tr>\n",
       "      <th>1</th>\n",
       "      <td>Kathmandu Gurkhas</td>\n",
       "      <td>Chitwan Rhinos</td>\n",
       "      <td>Chitwan Rhinos</td>\n",
       "      <td>field</td>\n",
       "      <td>2024/25</td>\n",
       "      <td>Sohail Tanvir</td>\n",
       "      <td>02 December 2024</td>\n",
       "      <td>Chitwan won by 5 wickets (with 17 balls remain...</td>\n",
       "      <td>111/9</td>\n",
       "      <td>9</td>\n",
       "      <td>...</td>\n",
       "      <td>6.64</td>\n",
       "      <td>Chitwan</td>\n",
       "      <td>5 wickets (with 17 balls remaining)</td>\n",
       "      <td>39/4</td>\n",
       "      <td>46/2</td>\n",
       "      <td>8</td>\n",
       "      <td>12</td>\n",
       "      <td>39</td>\n",
       "      <td>46</td>\n",
       "      <td>112</td>\n",
       "    </tr>\n",
       "    <tr>\n",
       "      <th>2</th>\n",
       "      <td>Karnali Yaks</td>\n",
       "      <td>Janakpur Bolts</td>\n",
       "      <td>Karnali Yaks</td>\n",
       "      <td>bat</td>\n",
       "      <td>2024/25</td>\n",
       "      <td>Anil Sah</td>\n",
       "      <td>02 December 2024</td>\n",
       "      <td>Janakpur won by 8 wickets (with 29 balls remai...</td>\n",
       "      <td>141/7</td>\n",
       "      <td>7</td>\n",
       "      <td>...</td>\n",
       "      <td>9.36</td>\n",
       "      <td>Janakpur</td>\n",
       "      <td>8 wickets (with 29 balls remaining)</td>\n",
       "      <td>31/2</td>\n",
       "      <td>56/0</td>\n",
       "      <td>8</td>\n",
       "      <td>4</td>\n",
       "      <td>31</td>\n",
       "      <td>56</td>\n",
       "      <td>142</td>\n",
       "    </tr>\n",
       "    <tr>\n",
       "      <th>3</th>\n",
       "      <td>Sudur Paschim</td>\n",
       "      <td>Biratnagar Kings</td>\n",
       "      <td>Biratnagar Kings</td>\n",
       "      <td>field</td>\n",
       "      <td>2024/25</td>\n",
       "      <td>Dipendra Singh Airee</td>\n",
       "      <td>03 December 2024</td>\n",
       "      <td>S Paschim won by 90 runs</td>\n",
       "      <td>182/7</td>\n",
       "      <td>7</td>\n",
       "      <td>...</td>\n",
       "      <td>5.69</td>\n",
       "      <td>S Paschim</td>\n",
       "      <td>90 runs</td>\n",
       "      <td>43/3</td>\n",
       "      <td>21/3</td>\n",
       "      <td>7</td>\n",
       "      <td>7</td>\n",
       "      <td>43</td>\n",
       "      <td>21</td>\n",
       "      <td>183</td>\n",
       "    </tr>\n",
       "    <tr>\n",
       "      <th>4</th>\n",
       "      <td>Chitwan Rhinos</td>\n",
       "      <td>Pokhara Avengers</td>\n",
       "      <td>Pokhara Avengers</td>\n",
       "      <td>field</td>\n",
       "      <td>2024/25</td>\n",
       "      <td>Rijan Dhakal</td>\n",
       "      <td>03 December 2024</td>\n",
       "      <td>Chitwan won by 87 runs</td>\n",
       "      <td>161/7</td>\n",
       "      <td>7</td>\n",
       "      <td>...</td>\n",
       "      <td>5.55</td>\n",
       "      <td>Chitwan</td>\n",
       "      <td>87 runs</td>\n",
       "      <td>50/3</td>\n",
       "      <td>16/6</td>\n",
       "      <td>5</td>\n",
       "      <td>11</td>\n",
       "      <td>50</td>\n",
       "      <td>16</td>\n",
       "      <td>162</td>\n",
       "    </tr>\n",
       "  </tbody>\n",
       "</table>\n",
       "<p>5 rows × 24 columns</p>\n",
       "</div>"
      ],
      "text/plain": [
       "              Team 1            Team 2       Toss_Winner Toss_Decision  \\\n",
       "0   Biratnagar Kings    Janakpur Bolts    Janakpur Bolts         field   \n",
       "1  Kathmandu Gurkhas    Chitwan Rhinos    Chitwan Rhinos         field   \n",
       "2       Karnali Yaks    Janakpur Bolts      Karnali Yaks           bat   \n",
       "3      Sudur Paschim  Biratnagar Kings  Biratnagar Kings         field   \n",
       "4     Chitwan Rhinos  Pokhara Avengers  Pokhara Avengers         field   \n",
       "\n",
       "    Season   Player Of The Match         Match_Day  \\\n",
       "0  2024/25       Lahiru Milantha  30 November 2024   \n",
       "1  2024/25         Sohail Tanvir  02 December 2024   \n",
       "2  2024/25              Anil Sah  02 December 2024   \n",
       "3  2024/25  Dipendra Singh Airee  03 December 2024   \n",
       "4  2024/25          Rijan Dhakal  03 December 2024   \n",
       "\n",
       "                                          Match Info First_Team_Performance  \\\n",
       "0  Janakpur won by 8 wickets (with 27 balls remai...                    127   \n",
       "1  Chitwan won by 5 wickets (with 17 balls remain...                  111/9   \n",
       "2  Janakpur won by 8 wickets (with 29 balls remai...                  141/7   \n",
       "3                           S Paschim won by 90 runs                  182/7   \n",
       "4                             Chitwan won by 87 runs                  161/7   \n",
       "\n",
       "   Wic_lost_by_1st_team  ... Run_Rate_Team_2  Winner_Team  \\\n",
       "0                    10  ...            8.45     Janakpur   \n",
       "1                     9  ...            6.64      Chitwan   \n",
       "2                     7  ...            9.36     Janakpur   \n",
       "3                     7  ...            5.69    S Paschim   \n",
       "4                     7  ...            5.55      Chitwan   \n",
       "\n",
       "                         won_by_margin  Powerplay1  Powerplay2  \\\n",
       "0  8 wickets (with 27 balls remaining)        38/1        52/2   \n",
       "1  5 wickets (with 17 balls remaining)        39/4        46/2   \n",
       "2  8 wickets (with 29 balls remaining)        31/2        56/0   \n",
       "3                              90 runs      43/3          21/3   \n",
       "4                              87 runs        50/3        16/6   \n",
       "\n",
       "  Extras_of_inning_1  Extras_of_inning_2 Powerplay1_runs Powerplay2_runs  \\\n",
       "0                 15                  22              38              52   \n",
       "1                  8                  12              39              46   \n",
       "2                  8                   4              31              56   \n",
       "3                  7                   7              43              21   \n",
       "4                  5                  11              50              16   \n",
       "\n",
       "   Target  \n",
       "0     128  \n",
       "1     112  \n",
       "2     142  \n",
       "3     183  \n",
       "4     162  \n",
       "\n",
       "[5 rows x 24 columns]"
      ]
     },
     "execution_count": 32,
     "metadata": {},
     "output_type": "execute_result"
    }
   ],
   "source": [
    "df.head()"
   ]
  },
  {
   "cell_type": "code",
   "execution_count": 33,
   "metadata": {},
   "outputs": [],
   "source": [
    "highest_win_team = df['Winner_Team'].value_counts().idxmax()\n",
    "highest_num_of_win = df['Winner_Team'].value_counts().max()"
   ]
  },
  {
   "cell_type": "code",
   "execution_count": 34,
   "metadata": {},
   "outputs": [
    {
     "name": "stdout",
     "output_type": "stream",
     "text": [
      "Teams with the highest number of wins: ['Janakpur', 'S Paschim']\n",
      "Number of wins: 7\n"
     ]
    }
   ],
   "source": [
    "max_wins = df['Winner_Team'].value_counts().max()\n",
    "\n",
    "highest_num_of_win = df['Winner_Team'].value_counts()[df['Winner_Team'].value_counts() == max_wins].index.tolist()\n",
    "\n",
    "print(f\"Teams with the highest number of wins: {highest_num_of_win}\")\n",
    "print(f\"Number of wins: {max_wins}\")"
   ]
  },
  {
   "cell_type": "code",
   "execution_count": 35,
   "metadata": {},
   "outputs": [
    {
     "data": {
      "text/html": [
       "<div>\n",
       "<style scoped>\n",
       "    .dataframe tbody tr th:only-of-type {\n",
       "        vertical-align: middle;\n",
       "    }\n",
       "\n",
       "    .dataframe tbody tr th {\n",
       "        vertical-align: top;\n",
       "    }\n",
       "\n",
       "    .dataframe thead th {\n",
       "        text-align: right;\n",
       "    }\n",
       "</style>\n",
       "<table border=\"1\" class=\"dataframe\">\n",
       "  <thead>\n",
       "    <tr style=\"text-align: right;\">\n",
       "      <th></th>\n",
       "      <th>Team 1</th>\n",
       "      <th>Team 2</th>\n",
       "      <th>Toss_Winner</th>\n",
       "      <th>Toss_Decision</th>\n",
       "      <th>Season</th>\n",
       "      <th>Player Of The Match</th>\n",
       "      <th>Match_Day</th>\n",
       "      <th>Match Info</th>\n",
       "      <th>First_Team_Performance</th>\n",
       "      <th>Wic_lost_by_1st_team</th>\n",
       "      <th>...</th>\n",
       "      <th>Run_Rate_Team_2</th>\n",
       "      <th>Winner_Team</th>\n",
       "      <th>won_by_margin</th>\n",
       "      <th>Powerplay1</th>\n",
       "      <th>Powerplay2</th>\n",
       "      <th>Extras_of_inning_1</th>\n",
       "      <th>Extras_of_inning_2</th>\n",
       "      <th>Powerplay1_runs</th>\n",
       "      <th>Powerplay2_runs</th>\n",
       "      <th>Target</th>\n",
       "    </tr>\n",
       "  </thead>\n",
       "  <tbody>\n",
       "    <tr>\n",
       "      <th>0</th>\n",
       "      <td>Biratnagar Kings</td>\n",
       "      <td>Janakpur Bolts</td>\n",
       "      <td>Janakpur Bolts</td>\n",
       "      <td>field</td>\n",
       "      <td>2024/25</td>\n",
       "      <td>Lahiru Milantha</td>\n",
       "      <td>30 November 2024</td>\n",
       "      <td>Janakpur won by 8 wickets (with 27 balls remai...</td>\n",
       "      <td>127</td>\n",
       "      <td>10</td>\n",
       "      <td>...</td>\n",
       "      <td>8.45</td>\n",
       "      <td>Janakpur</td>\n",
       "      <td>8 wickets (with 27 balls remaining)</td>\n",
       "      <td>38/1</td>\n",
       "      <td>52/2</td>\n",
       "      <td>15</td>\n",
       "      <td>22</td>\n",
       "      <td>38</td>\n",
       "      <td>52</td>\n",
       "      <td>128</td>\n",
       "    </tr>\n",
       "  </tbody>\n",
       "</table>\n",
       "<p>1 rows × 24 columns</p>\n",
       "</div>"
      ],
      "text/plain": [
       "             Team 1          Team 2     Toss_Winner Toss_Decision   Season  \\\n",
       "0  Biratnagar Kings  Janakpur Bolts  Janakpur Bolts         field  2024/25   \n",
       "\n",
       "  Player Of The Match         Match_Day  \\\n",
       "0     Lahiru Milantha  30 November 2024   \n",
       "\n",
       "                                          Match Info First_Team_Performance  \\\n",
       "0  Janakpur won by 8 wickets (with 27 balls remai...                    127   \n",
       "\n",
       "   Wic_lost_by_1st_team  ... Run_Rate_Team_2  Winner_Team  \\\n",
       "0                    10  ...            8.45     Janakpur   \n",
       "\n",
       "                         won_by_margin  Powerplay1  Powerplay2  \\\n",
       "0  8 wickets (with 27 balls remaining)        38/1        52/2   \n",
       "\n",
       "  Extras_of_inning_1  Extras_of_inning_2 Powerplay1_runs Powerplay2_runs  \\\n",
       "0                 15                  22              38              52   \n",
       "\n",
       "   Target  \n",
       "0     128  \n",
       "\n",
       "[1 rows x 24 columns]"
      ]
     },
     "execution_count": 35,
     "metadata": {},
     "output_type": "execute_result"
    }
   ],
   "source": [
    "df.head(1)"
   ]
  },
  {
   "cell_type": "code",
   "execution_count": 36,
   "metadata": {},
   "outputs": [
    {
     "data": {
      "text/plain": [
       "<Axes: xlabel='Target', ylabel='Powerplay1_runs'>"
      ]
     },
     "execution_count": 36,
     "metadata": {},
     "output_type": "execute_result"
    },
    {
     "data": {
      "image/png": "[encoded data removed]",
      "text/plain": [
       "<Figure size 640x480 with 1 Axes>"
      ]
     },
     "metadata": {},
     "output_type": "display_data"
    }
   ],
   "source": [
    "sns.scatterplot(x=df['Target'],y=df['Powerplay1_runs'])"
   ]
  },
  {
   "cell_type": "code",
   "execution_count": 37,
   "metadata": {},
   "outputs": [
    {
     "data": {
      "text/plain": [
       "dtype('int32')"
      ]
     },
     "execution_count": 37,
     "metadata": {},
     "output_type": "execute_result"
    }
   ],
   "source": [
    "df['Target'].dtype"
   ]
  },
  {
   "cell_type": "code",
   "execution_count": 81,
   "metadata": {},
   "outputs": [],
   "source": [
    "\n"
   ]
  },
  {
   "cell_type": "code",
   "execution_count": 38,
   "metadata": {},
   "outputs": [
    {
     "data": {
      "text/plain": [
       "Index(['Team 1', 'Team 2', 'Toss_Winner', 'Toss_Decision', 'Season',\n",
       "       'Player Of The Match', 'Match_Day', 'Match Info',\n",
       "       'First_Team_Performance', 'Wic_lost_by_1st_team',\n",
       "       'Second_Team_Performance', 'Run_Scored_By_2nd_Team',\n",
       "       'Wic_Lost_by_2nd_Team', 'Run_Rate_Team_1', 'Run_Rate_Team_2',\n",
       "       'Winner_Team', 'won_by_margin', 'Powerplay1', 'Powerplay2',\n",
       "       'Extras_of_inning_1', ' Extras_of_inning_2', 'Powerplay1_runs',\n",
       "       'Powerplay2_runs', 'Target'],\n",
       "      dtype='object')"
      ]
     },
     "execution_count": 38,
     "metadata": {},
     "output_type": "execute_result"
    }
   ],
   "source": [
    "df.columns"
   ]
  },
  {
   "cell_type": "code",
   "execution_count": 39,
   "metadata": {},
   "outputs": [],
   "source": [
    "df.drop(columns=['Season','Player Of The Match','Match_Day','Run_Rate_Team_1','Run_Rate_Team_2'],inplace=True)"
   ]
  },
  {
   "cell_type": "code",
   "execution_count": 40,
   "metadata": {},
   "outputs": [
    {
     "data": {
      "text/plain": [
       "Index(['Team 1', 'Team 2', 'Toss_Winner', 'Toss_Decision', 'Match Info',\n",
       "       'First_Team_Performance', 'Wic_lost_by_1st_team',\n",
       "       'Second_Team_Performance', 'Run_Scored_By_2nd_Team',\n",
       "       'Wic_Lost_by_2nd_Team', 'Winner_Team', 'won_by_margin', 'Powerplay1',\n",
       "       'Powerplay2', 'Extras_of_inning_1', ' Extras_of_inning_2',\n",
       "       'Powerplay1_runs', 'Powerplay2_runs', 'Target'],\n",
       "      dtype='object')"
      ]
     },
     "execution_count": 40,
     "metadata": {},
     "output_type": "execute_result"
    }
   ],
   "source": [
    "df.columns"
   ]
  },
  {
   "cell_type": "code",
   "execution_count": 41,
   "metadata": {},
   "outputs": [],
   "source": [
    "grouped1 = df.groupby(by = 'Team 1')['Wic_Lost_by_2nd_Team'].sum()\n",
    "grouped2 = df.groupby(by='Team 2')['Wic_lost_by_1st_team'].sum()"
   ]
  },
  {
   "cell_type": "code",
   "execution_count": 42,
   "metadata": {},
   "outputs": [
    {
     "name": "stdout",
     "output_type": "stream",
     "text": [
      "                Team  Total_Wickets\n",
      "0   Biratnagar Kings             47\n",
      "1     Chitwan Rhinos             60\n",
      "2     Janakpur Bolts             76\n",
      "3       Karnali Yaks             62\n",
      "4  Kathmandu Gurkhas             49\n",
      "5      Lumbini Lions             47\n",
      "6   Pokhara Avengers             36\n",
      "7      Sudur Paschim             78\n"
     ]
    }
   ],
   "source": [
    "# Resetting the index for both groups\n",
    "group1_df = grouped1.reset_index()\n",
    "group2_df = grouped2.reset_index()\n",
    "\n",
    "# Merging the two dataframes on 'Team 1' and 'Team 2'\n",
    "merged_df = group1_df.merge(group2_df, left_on='Team 1', right_on='Team 2', how='inner')\n",
    "\n",
    "# Calculating Total Wickets by adding the lost wickets from both teams\n",
    "merged_df['Total_Wickets'] = merged_df['Wic_Lost_by_2nd_Team'] + merged_df['Wic_lost_by_1st_team']\n",
    "\n",
    "# Selecting the relevant columns and renaming them\n",
    "final_group = merged_df[['Team 1', 'Total_Wickets']].rename(columns={'Team 1': 'Team'})\n",
    "\n",
    "# Printing the final group of teams with total wickets\n",
    "print(final_group)"
   ]
  },
  {
   "cell_type": "code",
   "execution_count": 43,
   "metadata": {},
   "outputs": [],
   "source": [
    "final_group_sorted = final_group.sort_values(by='Total_Wickets', ascending=False)"
   ]
  },
  {
   "cell_type": "code",
   "execution_count": 44,
   "metadata": {},
   "outputs": [],
   "source": [
    "highest_wicket_taker = final_group_sorted.iloc[0]\n",
    "second_highest_wicket_taker = final_group_sorted.iloc[1]"
   ]
  },
  {
   "cell_type": "code",
   "execution_count": 45,
   "metadata": {},
   "outputs": [
    {
     "data": {
      "text/plain": [
       "'Sudur Paschim'"
      ]
     },
     "execution_count": 45,
     "metadata": {},
     "output_type": "execute_result"
    }
   ],
   "source": [
    "highest_wicket_taker['Team']"
   ]
  },
  {
   "cell_type": "code",
   "execution_count": 46,
   "metadata": {},
   "outputs": [
    {
     "name": "stdout",
     "output_type": "stream",
     "text": [
      "The team to take highest wicket throughout the season is Sudur Paschim and the total wickets taken is 78. Sudur Paschim is followed by Janakpur Bolts with 2 wickets behind them!\n"
     ]
    }
   ],
   "source": [
    "print(f'The team to take highest wicket throughout the season is {highest_wicket_taker['Team']} and the total wickets taken is {highest_wicket_taker['Total_Wickets']}. Sudur Paschim is followed by {second_highest_wicket_taker['Team']} with {highest_wicket_taker['Total_Wickets'] - second_highest_wicket_taker['Total_Wickets']} wickets behind them!')"
   ]
  },
  {
   "cell_type": "code",
   "execution_count": 47,
   "metadata": {},
   "outputs": [
    {
     "data": {
      "text/plain": [
       "0     128\n",
       "1     112\n",
       "2     142\n",
       "3     183\n",
       "4     162\n",
       "5     150\n",
       "6     192\n",
       "7     139\n",
       "8     168\n",
       "9     131\n",
       "10    171\n",
       "11    188\n",
       "12    134\n",
       "13    137\n",
       "14    165\n",
       "15    168\n",
       "16    104\n",
       "17    124\n",
       "18    104\n",
       "19    140\n",
       "20    102\n",
       "21    129\n",
       "22    182\n",
       "23    139\n",
       "24    181\n",
       "25    118\n",
       "26    154\n",
       "27    102\n",
       "28    176\n",
       "29    140\n",
       "30    119\n",
       "31    185\n",
       "Name: Target, dtype: int32"
      ]
     },
     "execution_count": 47,
     "metadata": {},
     "output_type": "execute_result"
    }
   ],
   "source": [
    "df['Target']"
   ]
  },
  {
   "cell_type": "code",
   "execution_count": 48,
   "metadata": {},
   "outputs": [
    {
     "name": "stdout",
     "output_type": "stream",
     "text": [
      "<class 'pandas.core.frame.DataFrame'>\n",
      "RangeIndex: 32 entries, 0 to 31\n",
      "Data columns (total 19 columns):\n",
      " #   Column                   Non-Null Count  Dtype \n",
      "---  ------                   --------------  ----- \n",
      " 0   Team 1                   32 non-null     object\n",
      " 1   Team 2                   32 non-null     object\n",
      " 2   Toss_Winner              32 non-null     object\n",
      " 3   Toss_Decision            32 non-null     object\n",
      " 4   Match Info               32 non-null     object\n",
      " 5   First_Team_Performance   32 non-null     object\n",
      " 6   Wic_lost_by_1st_team     32 non-null     int64 \n",
      " 7   Second_Team_Performance  32 non-null     object\n",
      " 8   Run_Scored_By_2nd_Team   32 non-null     int64 \n",
      " 9   Wic_Lost_by_2nd_Team     32 non-null     int64 \n",
      " 10  Winner_Team              32 non-null     object\n",
      " 11  won_by_margin            32 non-null     object\n",
      " 12  Powerplay1               32 non-null     object\n",
      " 13  Powerplay2               32 non-null     object\n",
      " 14  Extras_of_inning_1       32 non-null     int64 \n",
      " 15   Extras_of_inning_2      32 non-null     int64 \n",
      " 16  Powerplay1_runs          32 non-null     int32 \n",
      " 17  Powerplay2_runs          32 non-null     object\n",
      " 18  Target                   32 non-null     int32 \n",
      "dtypes: int32(2), int64(5), object(12)\n",
      "memory usage: 4.6+ KB\n"
     ]
    }
   ],
   "source": [
    "df.info()"
   ]
  },
  {
   "cell_type": "code",
   "execution_count": 49,
   "metadata": {},
   "outputs": [],
   "source": [
    "# Rename a single column\n",
    "df.rename(columns={' Extras_of_inning_2': 'Extras_of_inning_2'}, inplace=True)"
   ]
  },
  {
   "cell_type": "code",
   "execution_count": 50,
   "metadata": {},
   "outputs": [],
   "source": [
    "numeric_df = df[['Run_Scored_By_2nd_Team','Wic_Lost_by_2nd_Team','Wic_lost_by_1st_team','Extras_of_inning_1','Extras_of_inning_2','Powerplay1_runs','Target']]"
   ]
  },
  {
   "cell_type": "code",
   "execution_count": 51,
   "metadata": {},
   "outputs": [
    {
     "data": {
      "text/plain": [
       "Run_Scored_By_2nd_Team    0.497667\n",
       "Wic_Lost_by_2nd_Team      0.280312\n",
       "Wic_lost_by_1st_team     -0.776972\n",
       "Extras_of_inning_1        0.342013\n",
       "Extras_of_inning_2        0.101196\n",
       "Powerplay1_runs           0.379116\n",
       "Target                    1.000000\n",
       "Name: Target, dtype: float64"
      ]
     },
     "execution_count": 51,
     "metadata": {},
     "output_type": "execute_result"
    }
   ],
   "source": [
    "numeric_df.corr()['Target']"
   ]
  },
  {
   "cell_type": "code",
   "execution_count": 52,
   "metadata": {},
   "outputs": [
    {
     "data": {
      "text/plain": [
       "<Axes: xlabel='Wic_lost_by_1st_team', ylabel='Target'>"
      ]
     },
     "execution_count": 52,
     "metadata": {},
     "output_type": "execute_result"
    },
    {
     "data": {
      "image/png": "[encoded data removed]",
      "text/plain": [
       "<Figure size 640x480 with 1 Axes>"
      ]
     },
     "metadata": {},
     "output_type": "display_data"
    }
   ],
   "source": [
    "sns.scatterplot(x=df['Wic_lost_by_1st_team'], y = df['Target'])"
   ]
  },
  {
   "cell_type": "code",
   "execution_count": 53,
   "metadata": {},
   "outputs": [
    {
     "data": {
      "image/png": "[encoded data removed]",
      "text/plain": [
       "<Figure size 640x480 with 1 Axes>"
      ]
     },
     "metadata": {},
     "output_type": "display_data"
    }
   ],
   "source": [
    "plt.scatter(df['Wic_lost_by_1st_team'],df['Target'])\n",
    "plt.xlabel('Wickets')\n",
    "plt.ylabel('Target')\n",
    "plt.show()"
   ]
  },
  {
   "cell_type": "code",
   "execution_count": 54,
   "metadata": {},
   "outputs": [],
   "source": [
    "heatmap_data = df[['Extras_of_inning_1', 'Extras_of_inning_2']]"
   ]
  },
  {
   "cell_type": "code",
   "execution_count": 55,
   "metadata": {},
   "outputs": [
    {
     "data": {
      "text/plain": [
       "<Axes: >"
      ]
     },
     "execution_count": 55,
     "metadata": {},
     "output_type": "execute_result"
    },
    {
     "data": {
      "image/png": "[encoded data removed]",
      "text/plain": [
       "<Figure size 800x600 with 2 Axes>"
      ]
     },
     "metadata": {},
     "output_type": "display_data"
    }
   ],
   "source": [
    "plt.figure(figsize=(8, 6))\n",
    "sns.heatmap(heatmap_data.corr(), annot=True, cmap='coolwarm', fmt='.2f', linewidths=0.5)"
   ]
  },
  {
   "cell_type": "markdown",
   "metadata": {},
   "source": [
    "This value indicates a moderate positive correlation between the extras in innings 1 and 2. In other words, there is some relationship between the two variables, but it's not a very strong one. A correlation of 0.38 suggests that as the extra runs in inning 1 increase, there is a tendency for the extra runs in inning 2 to also increase, but this relationship is not very strong."
   ]
  },
  {
   "cell_type": "code",
   "execution_count": 56,
   "metadata": {},
   "outputs": [
    {
     "data": {
      "text/plain": [
       "0    Janakpur won by 8 wickets (with 27 balls remai...\n",
       "1    Chitwan won by 5 wickets (with 17 balls remain...\n",
       "2    Janakpur won by 8 wickets (with 29 balls remai...\n",
       "3                             S Paschim won by 90 runs\n",
       "4                               Chitwan won by 87 runs\n",
       "Name: Match Info, dtype: object"
      ]
     },
     "execution_count": 56,
     "metadata": {},
     "output_type": "execute_result"
    }
   ],
   "source": [
    "df['Match Info'].head(5)"
   ]
  },
  {
   "cell_type": "code",
   "execution_count": 57,
   "metadata": {},
   "outputs": [],
   "source": [
    "# def create_winbyruns(text):\n",
    "#     return text[0] if 'runs' in text else 0\n",
    "# def create_winbywics(text):\n",
    "#     return text[0] if 'wickets' in text else 0"
   ]
  },
  {
   "cell_type": "code",
   "execution_count": 58,
   "metadata": {},
   "outputs": [],
   "source": [
    "# df['Win_by_runs'] = df['won_by_margin'].apply(create_winbyruns)\n",
    "# df['Win_by_wickets'] = df['won_by_margin'].apply(create_winbywics)"
   ]
  },
  {
   "cell_type": "code",
   "execution_count": 59,
   "metadata": {},
   "outputs": [],
   "source": [
    "# df.head()"
   ]
  },
  {
   "cell_type": "code",
   "execution_count": 60,
   "metadata": {},
   "outputs": [
    {
     "data": {
      "image/png": "[encoded data removed]",
      "text/plain": [
       "<Figure size 700x700 with 1 Axes>"
      ]
     },
     "metadata": {},
     "output_type": "display_data"
    }
   ],
   "source": [
    "win_by_wickets = df[df['won_by_margin'].str.contains('wickets', case=False, na=False)].shape[0]\n",
    "win_by_runs = df[df['won_by_margin'].str.contains('runs', case=False, na=False)].shape[0]\n",
    "\n",
    "labels = ['Win by Wickets', 'Win by Runs']\n",
    "sizes = [win_by_wickets, win_by_runs]\n",
    "\n",
    "plt.figure(figsize=(7, 7))\n",
    "plt.pie(sizes, labels=labels, autopct='%1.1f%%', startangle=140, colors=['#66b3ff','#99ff99'])\n",
    "\n",
    "plt.title('Win by Wickets vs. Win by Runs')\n",
    "\n",
    "plt.show()"
   ]
  },
  {
   "cell_type": "code",
   "execution_count": 61,
   "metadata": {},
   "outputs": [
    {
     "data": {
      "image/png": "[encoded data removed]",
      "text/plain": [
       "<Figure size 800x600 with 1 Axes>"
      ]
     },
     "metadata": {},
     "output_type": "display_data"
    }
   ],
   "source": [
    "df['Run_Scored_By_2nd_Team'] = pd.to_numeric(df['Run_Scored_By_2nd_Team'], errors='coerce')\n",
    "df['Wic_Lost_by_1st_team'] = pd.to_numeric(df['Wic_lost_by_1st_team'], errors='coerce')\n",
    "\n",
    "plt.figure(figsize=(8, 6))\n",
    "plt.scatter(df['Run_Scored_By_2nd_Team'], df['Wic_lost_by_1st_team'], color='blue', alpha=0.6)\n",
    "\n",
    "plt.title('Runs Scored vs. Wickets Lost')\n",
    "plt.xlabel('Runs Scored by 2nd Team')\n",
    "plt.ylabel('Wickets Lost by 1st Team')\n",
    "\n",
    "plt.show()"
   ]
  },
  {
   "cell_type": "code",
   "execution_count": null,
   "metadata": {},
   "outputs": [],
   "source": []
  }
 ],
 "metadata": {
  "kernelspec": {
   "display_name": "Python 3",
   "language": "python",
   "name": "python3"
  },
  "language_info": {
   "codemirror_mode": {
    "name": "ipython",
    "version": 3
   },
   "file_extension": ".py",
   "mimetype": "text/x-python",
   "name": "python",
   "nbconvert_exporter": "python",
   "pygments_lexer": "ipython3",
   "version": "3.12.5"
  }
 },
 "nbformat": 4,
 "nbformat_minor": 2
}
